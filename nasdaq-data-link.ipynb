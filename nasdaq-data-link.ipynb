{
 "cells": [
  {
   "cell_type": "code",
   "execution_count": 37,
   "metadata": {},
   "outputs": [],
   "source": [
    "import quandl\n",
    "import pandas as pd\n",
    "import numpy as np\n",
    "\n",
    "import json\n",
    "\n",
    "with open('credentials.json') as f:\n",
    "  API_KEY = json.load(f)['nasdaq']"
   ]
  },
  {
   "cell_type": "code",
   "execution_count": 38,
   "metadata": {},
   "outputs": [
    {
     "data": {
      "text/plain": [
       "'zasxawVv--nm1RQsN284'"
      ]
     },
     "execution_count": 38,
     "metadata": {},
     "output_type": "execute_result"
    }
   ],
   "source": [
    "API_KEY"
   ]
  },
  {
   "cell_type": "code",
   "execution_count": 39,
   "metadata": {},
   "outputs": [
    {
     "data": {
      "text/html": [
       "<div>\n",
       "<style scoped>\n",
       "    .dataframe tbody tr th:only-of-type {\n",
       "        vertical-align: middle;\n",
       "    }\n",
       "\n",
       "    .dataframe tbody tr th {\n",
       "        vertical-align: top;\n",
       "    }\n",
       "\n",
       "    .dataframe thead th {\n",
       "        text-align: right;\n",
       "    }\n",
       "</style>\n",
       "<table border=\"1\" class=\"dataframe\">\n",
       "  <thead>\n",
       "    <tr style=\"text-align: right;\">\n",
       "      <th></th>\n",
       "      <th>STOCK</th>\n",
       "      <th>CODE</th>\n",
       "    </tr>\n",
       "  </thead>\n",
       "  <tbody>\n",
       "    <tr>\n",
       "      <th>0</th>\n",
       "      <td>20 Microns Ltd. EOD Prices</td>\n",
       "      <td>BOM533022</td>\n",
       "    </tr>\n",
       "    <tr>\n",
       "      <th>1</th>\n",
       "      <td>3i Infotech Ltd. EOD Prices</td>\n",
       "      <td>BOM532628</td>\n",
       "    </tr>\n",
       "    <tr>\n",
       "      <th>2</th>\n",
       "      <td>3m India Ltd. EOD Prices</td>\n",
       "      <td>BOM523395</td>\n",
       "    </tr>\n",
       "    <tr>\n",
       "      <th>3</th>\n",
       "      <td>7seas Technologies Ltd-$ EOD Prices</td>\n",
       "      <td>BOM590116</td>\n",
       "    </tr>\n",
       "    <tr>\n",
       "      <th>4</th>\n",
       "      <td>8k Miles Software Services Ltd. EOD Prices</td>\n",
       "      <td>BOM512161</td>\n",
       "    </tr>\n",
       "    <tr>\n",
       "      <th>...</th>\n",
       "      <td>...</td>\n",
       "      <td>...</td>\n",
       "    </tr>\n",
       "    <tr>\n",
       "      <th>4534</th>\n",
       "      <td>Zuari Agro Chemicals Ltd. EOD Prices</td>\n",
       "      <td>BOM534742</td>\n",
       "    </tr>\n",
       "    <tr>\n",
       "      <th>4535</th>\n",
       "      <td>Zuari Global Ltd. EOD Prices</td>\n",
       "      <td>BOM500780</td>\n",
       "    </tr>\n",
       "    <tr>\n",
       "      <th>4536</th>\n",
       "      <td>Zyden Gentec Ltd. EOD Prices</td>\n",
       "      <td>BOM530091</td>\n",
       "    </tr>\n",
       "    <tr>\n",
       "      <th>4537</th>\n",
       "      <td>Zydus Wellness Ltd.-$ EOD Prices</td>\n",
       "      <td>BOM531335</td>\n",
       "    </tr>\n",
       "    <tr>\n",
       "      <th>4538</th>\n",
       "      <td>Zylog Systems Ltd. EOD Prices</td>\n",
       "      <td>BOM532883</td>\n",
       "    </tr>\n",
       "  </tbody>\n",
       "</table>\n",
       "<p>4539 rows × 2 columns</p>\n",
       "</div>"
      ],
      "text/plain": [
       "                                           STOCK       CODE\n",
       "0                     20 Microns Ltd. EOD Prices  BOM533022\n",
       "1                    3i Infotech Ltd. EOD Prices  BOM532628\n",
       "2                       3m India Ltd. EOD Prices  BOM523395\n",
       "3            7seas Technologies Ltd-$ EOD Prices  BOM590116\n",
       "4     8k Miles Software Services Ltd. EOD Prices  BOM512161\n",
       "...                                          ...        ...\n",
       "4534        Zuari Agro Chemicals Ltd. EOD Prices  BOM534742\n",
       "4535                Zuari Global Ltd. EOD Prices  BOM500780\n",
       "4536                Zyden Gentec Ltd. EOD Prices  BOM530091\n",
       "4537            Zydus Wellness Ltd.-$ EOD Prices  BOM531335\n",
       "4538               Zylog Systems Ltd. EOD Prices  BOM532883\n",
       "\n",
       "[4539 rows x 2 columns]"
      ]
     },
     "execution_count": 39,
     "metadata": {},
     "output_type": "execute_result"
    }
   ],
   "source": [
    "pd.read_csv(\"data/nasdaq/bse_stocks.csv\")"
   ]
  },
  {
   "cell_type": "code",
   "execution_count": null,
   "metadata": {},
   "outputs": [],
   "source": []
  },
  {
   "cell_type": "code",
   "execution_count": 14,
   "metadata": {},
   "outputs": [
    {
     "data": {
      "text/html": [
       "<div>\n",
       "<style scoped>\n",
       "    .dataframe tbody tr th:only-of-type {\n",
       "        vertical-align: middle;\n",
       "    }\n",
       "\n",
       "    .dataframe tbody tr th {\n",
       "        vertical-align: top;\n",
       "    }\n",
       "\n",
       "    .dataframe thead th {\n",
       "        text-align: right;\n",
       "    }\n",
       "</style>\n",
       "<table border=\"1\" class=\"dataframe\">\n",
       "  <thead>\n",
       "    <tr style=\"text-align: right;\">\n",
       "      <th></th>\n",
       "      <th>Open</th>\n",
       "      <th>High</th>\n",
       "      <th>Low</th>\n",
       "      <th>Close</th>\n",
       "    </tr>\n",
       "    <tr>\n",
       "      <th>Date</th>\n",
       "      <th></th>\n",
       "      <th></th>\n",
       "      <th></th>\n",
       "      <th></th>\n",
       "    </tr>\n",
       "  </thead>\n",
       "  <tbody>\n",
       "    <tr>\n",
       "      <th>2001-10-08</th>\n",
       "      <td>-0.007590</td>\n",
       "      <td>-0.014886</td>\n",
       "      <td>-0.016925</td>\n",
       "      <td>-0.016897</td>\n",
       "    </tr>\n",
       "    <tr>\n",
       "      <th>2001-10-09</th>\n",
       "      <td>0.001546</td>\n",
       "      <td>0.006555</td>\n",
       "      <td>0.019791</td>\n",
       "      <td>0.010505</td>\n",
       "    </tr>\n",
       "    <tr>\n",
       "      <th>2001-10-10</th>\n",
       "      <td>0.023277</td>\n",
       "      <td>0.036487</td>\n",
       "      <td>0.023277</td>\n",
       "      <td>0.036566</td>\n",
       "    </tr>\n",
       "    <tr>\n",
       "      <th>2001-10-11</th>\n",
       "      <td>0.022230</td>\n",
       "      <td>0.017996</td>\n",
       "      <td>0.022230</td>\n",
       "      <td>0.016257</td>\n",
       "    </tr>\n",
       "    <tr>\n",
       "      <th>2001-10-12</th>\n",
       "      <td>0.020932</td>\n",
       "      <td>0.011083</td>\n",
       "      <td>0.016394</td>\n",
       "      <td>0.005333</td>\n",
       "    </tr>\n",
       "    <tr>\n",
       "      <th>...</th>\n",
       "      <td>...</td>\n",
       "      <td>...</td>\n",
       "      <td>...</td>\n",
       "      <td>...</td>\n",
       "    </tr>\n",
       "    <tr>\n",
       "      <th>2009-09-25</th>\n",
       "      <td>0.002760</td>\n",
       "      <td>-0.001312</td>\n",
       "      <td>0.007172</td>\n",
       "      <td>-0.005270</td>\n",
       "    </tr>\n",
       "    <tr>\n",
       "      <th>2009-09-29</th>\n",
       "      <td>0.008940</td>\n",
       "      <td>0.005699</td>\n",
       "      <td>0.011411</td>\n",
       "      <td>0.009579</td>\n",
       "    </tr>\n",
       "    <tr>\n",
       "      <th>2009-09-30</th>\n",
       "      <td>0.002338</td>\n",
       "      <td>0.013880</td>\n",
       "      <td>0.003908</td>\n",
       "      <td>0.016254</td>\n",
       "    </tr>\n",
       "    <tr>\n",
       "      <th>2009-10-01</th>\n",
       "      <td>0.018836</td>\n",
       "      <td>0.003097</td>\n",
       "      <td>0.011317</td>\n",
       "      <td>0.000450</td>\n",
       "    </tr>\n",
       "    <tr>\n",
       "      <th>2009-10-05</th>\n",
       "      <td>-0.007226</td>\n",
       "      <td>-0.007769</td>\n",
       "      <td>-0.013105</td>\n",
       "      <td>-0.015649</td>\n",
       "    </tr>\n",
       "  </tbody>\n",
       "</table>\n",
       "<p>1995 rows × 4 columns</p>\n",
       "</div>"
      ],
      "text/plain": [
       "                Open      High       Low     Close\n",
       "Date                                              \n",
       "2001-10-08 -0.007590 -0.014886 -0.016925 -0.016897\n",
       "2001-10-09  0.001546  0.006555  0.019791  0.010505\n",
       "2001-10-10  0.023277  0.036487  0.023277  0.036566\n",
       "2001-10-11  0.022230  0.017996  0.022230  0.016257\n",
       "2001-10-12  0.020932  0.011083  0.016394  0.005333\n",
       "...              ...       ...       ...       ...\n",
       "2009-09-25  0.002760 -0.001312  0.007172 -0.005270\n",
       "2009-09-29  0.008940  0.005699  0.011411  0.009579\n",
       "2009-09-30  0.002338  0.013880  0.003908  0.016254\n",
       "2009-10-01  0.018836  0.003097  0.011317  0.000450\n",
       "2009-10-05 -0.007226 -0.007769 -0.013105 -0.015649\n",
       "\n",
       "[1995 rows x 4 columns]"
      ]
     },
     "execution_count": 14,
     "metadata": {},
     "output_type": "execute_result"
    }
   ],
   "source": [
    "quandl.ApiConfig.api_key = API_KEY\n",
    "# t = quandl.get('BSE/BOM509480', start_date='2001-10-05', end_date='2009-10-05')\n",
    "t = quandl.get('BSE/SENSEX', start_date='2001-10-05', end_date='2009-10-05', transformation = 'rdiff')\n",
    "t"
   ]
  },
  {
   "cell_type": "code",
   "execution_count": 18,
   "metadata": {},
   "outputs": [
    {
     "data": {
      "text/plain": [
       "<AxesSubplot:xlabel='Date'>"
      ]
     },
     "execution_count": 18,
     "metadata": {},
     "output_type": "execute_result"
    },
    {
     "data": {
      "image/png": "[encoded data removed]",
      "text/plain": [
       "<Figure size 432x288 with 1 Axes>"
      ]
     },
     "metadata": {
      "needs_background": "light"
     },
     "output_type": "display_data"
    }
   ],
   "source": [
    "(t.Close + 1).cumprod().plot()"
   ]
  },
  {
   "cell_type": "code",
   "execution_count": null,
   "metadata": {},
   "outputs": [],
   "source": []
  }
 ],
 "metadata": {
  "interpreter": {
   "hash": "e977757c12efd7edc355d4bfc73cb288660b7eabd32e8af9dce074334f507a80"
  },
  "kernelspec": {
   "display_name": "Python 3.9.7 64-bit ('finance': conda)",
   "language": "python",
   "name": "python3"
  },
  "language_info": {
   "codemirror_mode": {
    "name": "ipython",
    "version": 3
   },
   "file_extension": ".py",
   "mimetype": "text/x-python",
   "name": "python",
   "nbconvert_exporter": "python",
   "pygments_lexer": "ipython3",
   "version": "3.9.7"
  },
  "orig_nbformat": 4
 },
 "nbformat": 4,
 "nbformat_minor": 2
}
