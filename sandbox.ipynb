{
 "cells": [
  {
   "cell_type": "code",
   "execution_count": 1,
   "metadata": {},
   "outputs": [],
   "source": [
    "import yfinance as yf"
   ]
  },
  {
   "cell_type": "code",
   "execution_count": null,
   "metadata": {},
   "outputs": [],
   "source": [
    "yf.Ticker(\"\")"
   ]
  },
  {
   "cell_type": "code",
   "execution_count": 1,
   "metadata": {},
   "outputs": [],
   "source": [
    "def func1(n):\n",
    "    fizzbuzz = []\n",
    "    for i in range(1,n+1):\n",
    "        if i%15 == 0:\n",
    "            fizzbuzz.append(\"FizzBuzz\")\n",
    "        elif i%3 == 0:\n",
    "            fizzbuzz.append(\"Fizz\")\n",
    "        elif i%5 == 0:\n",
    "            fizzbuzz.append(\"Buzz\")\n",
    "        else:\n",
    "            fizzbuzz.append(i)\n",
    "    return fizzbuzz"
   ]
  },
  {
   "cell_type": "code",
   "execution_count": 2,
   "metadata": {},
   "outputs": [],
   "source": [
    "def func2(n):\n",
    "    fizzbuzz = []\n",
    "    for i in range(1,n+1):\n",
    "        div = False\n",
    "        string = \"\"\n",
    "        if i%3 == 0:\n",
    "            div = True\n",
    "            string = \"Fizz\"\n",
    "        if i%5 == 0:\n",
    "            div = True\n",
    "            string += \"Buzz\"   \n",
    "        if not div:\n",
    "            string = i\n",
    "        fizzbuzz.append(string)\n",
    "    return fizzbuzz"
   ]
  },
  {
   "cell_type": "code",
   "execution_count": 3,
   "metadata": {},
   "outputs": [],
   "source": [
    "def func3(n):\n",
    "    fizzbuzz = [i for i in range(n+1)]\n",
    "    for i in range(1,n//3 + 1):\n",
    "        if 5*i < n+1:\n",
    "            fizzbuzz[5*i] = \"Buzz\"\n",
    "        if 3*i < n+1:\n",
    "            fizzbuzz[3*i] = \"Fizz\" if fizzbuzz[3*i] != \"Buzz\" else \"FizzBuzz\"\n",
    "    return fizzbuzz[1:]"
   ]
  },
  {
   "cell_type": "code",
   "execution_count": 6,
   "metadata": {},
   "outputs": [
    {
     "name": "stdout",
     "output_type": "stream",
     "text": [
      "True\n",
      "True\n",
      "True\n"
     ]
    }
   ],
   "source": [
    "n = 1000\n",
    "print(func1(n) == func2(n))\n",
    "print(func2(n) == func3(n))\n",
    "print(func3(n) == func1(n))"
   ]
  },
  {
   "cell_type": "code",
   "execution_count": 7,
   "metadata": {},
   "outputs": [
    {
     "name": "stdout",
     "output_type": "stream",
     "text": [
      "147 µs ± 567 ns per loop (mean ± std. dev. of 7 runs, 10000 loops each)\n",
      "154 µs ± 215 ns per loop (mean ± std. dev. of 7 runs, 10000 loops each)\n",
      "125 µs ± 1.08 µs per loop (mean ± std. dev. of 7 runs, 10000 loops each)\n"
     ]
    }
   ],
   "source": [
    "%timeit func1(n)\n",
    "%timeit func2(n)\n",
    "%timeit func3(n)"
   ]
  }
 ],
 "metadata": {
  "interpreter": {
   "hash": "e977757c12efd7edc355d4bfc73cb288660b7eabd32e8af9dce074334f507a80"
  },
  "kernelspec": {
   "display_name": "Python 3.9.7 64-bit ('finance': conda)",
   "language": "python",
   "name": "python3"
  },
  "language_info": {
   "codemirror_mode": {
    "name": "ipython",
    "version": 3
   },
   "file_extension": ".py",
   "mimetype": "text/x-python",
   "name": "python",
   "nbconvert_exporter": "python",
   "pygments_lexer": "ipython3",
   "version": "3.9.7"
  },
  "orig_nbformat": 4
 },
 "nbformat": 4,
 "nbformat_minor": 2
}
