{
 "cells": [
  {
   "cell_type": "code",
   "execution_count": 1,
   "metadata": {},
   "outputs": [],
   "source": [
    "import pandas as pd\n",
    "import numpy as np\n",
    "from selenium import webdriver\n",
    "import matplotlib.pyplot as plt\n",
    "import math\n",
    "\n",
    "%matplotlib inline\n",
    "plt.style.use(\"ggplot\")"
   ]
  },
  {
   "cell_type": "code",
   "execution_count": 2,
   "metadata": {},
   "outputs": [],
   "source": [
    "import yfinance as yf\n",
    "\n",
    "def daily_returns(data : pd.Series) -> float:\n",
    "    '''\n",
    "        Function to calculate daily returns from daliy price data\n",
    "    '''\n",
    "    return(data - data.shift(1))/data.shift(1)\n",
    "\n",
    "def tracking_error(benchmark : pd.Series, portfolio : pd.Series) -> float:\n",
    "    '''\n",
    "        Function to compute tracking error\n",
    "    '''\n",
    "    return (portfolio - benchmark).std()"
   ]
  },
  {
   "cell_type": "markdown",
   "metadata": {},
   "source": [
    "# Read Portfolios and trading Strategies"
   ]
  },
  {
   "cell_type": "code",
   "execution_count": 3,
   "metadata": {},
   "outputs": [],
   "source": [
    "%run -i 'portfolio.py'"
   ]
  },
  {
   "cell_type": "code",
   "execution_count": 4,
   "metadata": {},
   "outputs": [
    {
     "name": "stdout",
     "output_type": "stream",
     "text": [
      "Number of unique tickers: 36\n",
      "Dimensions:  (65535, 5)\n"
     ]
    },
    {
     "data": {
      "text/html": [
       "<div>\n",
       "<style scoped>\n",
       "    .dataframe tbody tr th:only-of-type {\n",
       "        vertical-align: middle;\n",
       "    }\n",
       "\n",
       "    .dataframe tbody tr th {\n",
       "        vertical-align: top;\n",
       "    }\n",
       "\n",
       "    .dataframe thead th {\n",
       "        text-align: right;\n",
       "    }\n",
       "</style>\n",
       "<table border=\"1\" class=\"dataframe\">\n",
       "  <thead>\n",
       "    <tr style=\"text-align: right;\">\n",
       "      <th></th>\n",
       "      <th>datadate</th>\n",
       "      <th>tic</th>\n",
       "      <th>div</th>\n",
       "      <th>shares</th>\n",
       "      <th>close</th>\n",
       "    </tr>\n",
       "  </thead>\n",
       "  <tbody>\n",
       "    <tr>\n",
       "      <th>0</th>\n",
       "      <td>2010-01-04</td>\n",
       "      <td>AAMRQ</td>\n",
       "      <td>0.0</td>\n",
       "      <td>332456000.0</td>\n",
       "      <td>7.72</td>\n",
       "    </tr>\n",
       "    <tr>\n",
       "      <th>1</th>\n",
       "      <td>2010-01-04</td>\n",
       "      <td>AMD</td>\n",
       "      <td>0.0</td>\n",
       "      <td>670361000.0</td>\n",
       "      <td>9.70</td>\n",
       "    </tr>\n",
       "    <tr>\n",
       "      <th>2</th>\n",
       "      <td>2010-01-04</td>\n",
       "      <td>NBR</td>\n",
       "      <td>0.0</td>\n",
       "      <td>283290000.0</td>\n",
       "      <td>23.19</td>\n",
       "    </tr>\n",
       "    <tr>\n",
       "      <th>3</th>\n",
       "      <td>2010-01-04</td>\n",
       "      <td>AET</td>\n",
       "      <td>0.0</td>\n",
       "      <td>433500000.0</td>\n",
       "      <td>33.00</td>\n",
       "    </tr>\n",
       "    <tr>\n",
       "      <th>4</th>\n",
       "      <td>2010-01-04</td>\n",
       "      <td>APD</td>\n",
       "      <td>0.0</td>\n",
       "      <td>211706000.0</td>\n",
       "      <td>83.16</td>\n",
       "    </tr>\n",
       "    <tr>\n",
       "      <th>...</th>\n",
       "      <td>...</td>\n",
       "      <td>...</td>\n",
       "      <td>...</td>\n",
       "      <td>...</td>\n",
       "      <td>...</td>\n",
       "    </tr>\n",
       "    <tr>\n",
       "      <th>65530</th>\n",
       "      <td>2021-10-08</td>\n",
       "      <td>AME</td>\n",
       "      <td>0.0</td>\n",
       "      <td>231206000.0</td>\n",
       "      <td>126.19</td>\n",
       "    </tr>\n",
       "    <tr>\n",
       "      <th>65531</th>\n",
       "      <td>2021-10-08</td>\n",
       "      <td>AEP</td>\n",
       "      <td>0.0</td>\n",
       "      <td>500251000.0</td>\n",
       "      <td>83.58</td>\n",
       "    </tr>\n",
       "    <tr>\n",
       "      <th>65532</th>\n",
       "      <td>2021-10-08</td>\n",
       "      <td>AIG.PA</td>\n",
       "      <td>0.0</td>\n",
       "      <td>20000000.0</td>\n",
       "      <td>27.13</td>\n",
       "    </tr>\n",
       "    <tr>\n",
       "      <th>65533</th>\n",
       "      <td>2021-10-08</td>\n",
       "      <td>ADI</td>\n",
       "      <td>0.0</td>\n",
       "      <td>537411000.0</td>\n",
       "      <td>168.62</td>\n",
       "    </tr>\n",
       "    <tr>\n",
       "      <th>65534</th>\n",
       "      <td>2021-10-08</td>\n",
       "      <td>AIG</td>\n",
       "      <td>0.0</td>\n",
       "      <td>855202000.0</td>\n",
       "      <td>57.61</td>\n",
       "    </tr>\n",
       "  </tbody>\n",
       "</table>\n",
       "<p>65535 rows × 5 columns</p>\n",
       "</div>"
      ],
      "text/plain": [
       "        datadate     tic  div       shares   close\n",
       "0     2010-01-04   AAMRQ  0.0  332456000.0    7.72\n",
       "1     2010-01-04     AMD  0.0  670361000.0    9.70\n",
       "2     2010-01-04     NBR  0.0  283290000.0   23.19\n",
       "3     2010-01-04     AET  0.0  433500000.0   33.00\n",
       "4     2010-01-04     APD  0.0  211706000.0   83.16\n",
       "...          ...     ...  ...          ...     ...\n",
       "65530 2021-10-08     AME  0.0  231206000.0  126.19\n",
       "65531 2021-10-08     AEP  0.0  500251000.0   83.58\n",
       "65532 2021-10-08  AIG.PA  0.0   20000000.0   27.13\n",
       "65533 2021-10-08     ADI  0.0  537411000.0  168.62\n",
       "65534 2021-10-08     AIG  0.0  855202000.0   57.61\n",
       "\n",
       "[65535 rows x 5 columns]"
      ]
     },
     "execution_count": 4,
     "metadata": {},
     "output_type": "execute_result"
    }
   ],
   "source": [
    "data = pd.read_csv(\"./data/portfolio_dataset.csv\", low_memory=False)#, nrows= 10000)\n",
    "\n",
    "data[\"datadate\"] = pd.to_datetime(data[\"datadate\"])\n",
    "print(\"Number of unique tickers:\",len(data.tic.value_counts()))\n",
    "data = data[[\"datadate\",\"tic\",\"div\",\"cshoc\",\"prccd\"]].sort_values(by= \"datadate\")\\\n",
    "                                                .rename({'cshoc':'shares',\n",
    "                                                #     'prchd':'high',\n",
    "                                                #     'prcld':'low',\n",
    "                                                #     'prcod':'open',\n",
    "                                                        'prccd':'close',}, axis = 1).\\\n",
    "                                                reset_index(drop=True)\n",
    "data = data[data[\"datadate\"] >= pd.to_datetime(\"01-01-2010\")]\n",
    "\n",
    "\n",
    "\n",
    "data[\"div\"] = data[\"div\"].fillna(0)\n",
    "print(\"Dimensions: \",data.shape)\n",
    "data"
   ]
  },
  {
   "cell_type": "markdown",
   "metadata": {},
   "source": [
    "***"
   ]
  },
  {
   "cell_type": "markdown",
   "metadata": {},
   "source": [
    "# S&P 500 Replicating Portfolio"
   ]
  },
  {
   "cell_type": "markdown",
   "metadata": {},
   "source": [
    "## Read S&P 500 Index Constituent Data"
   ]
  },
  {
   "cell_type": "markdown",
   "metadata": {},
   "source": [
    "- WRDS Method _(includes historical data)_"
   ]
  },
  {
   "cell_type": "code",
   "execution_count": 5,
   "metadata": {},
   "outputs": [
    {
     "ename": "FileNotFoundError",
     "evalue": "[Errno 2] No such file or directory: './data/sp500_constituents.csv'",
     "output_type": "error",
     "traceback": [
      "\u001b[0;31m---------------------------------------------------------------------------\u001b[0m",
      "\u001b[0;31mFileNotFoundError\u001b[0m                         Traceback (most recent call last)",
      "\u001b[1;32m/Users/rchaks/Code/Trading/portfolio-management/portfolio.ipynb Cell 10\u001b[0m in \u001b[0;36m<cell line: 1>\u001b[0;34m()\u001b[0m\n\u001b[0;32m----> <a href='vscode-notebook-cell:/Users/rchaks/Code/Trading/portfolio-management/portfolio.ipynb#X12sZmlsZQ%3D%3D?line=0'>1</a>\u001b[0m spy_ticker_data \u001b[39m=\u001b[39m pd\u001b[39m.\u001b[39;49mread_csv(\u001b[39m\"\u001b[39;49m\u001b[39m./data/sp500_constituents.csv\u001b[39;49m\u001b[39m\"\u001b[39;49m)\n\u001b[1;32m      <a href='vscode-notebook-cell:/Users/rchaks/Code/Trading/portfolio-management/portfolio.ipynb#X12sZmlsZQ%3D%3D?line=1'>2</a>\u001b[0m spy_ticker_set \u001b[39m=\u001b[39m \u001b[39mset\u001b[39m(spy_ticker_data[\u001b[39m\"\u001b[39m\u001b[39mSymbol\u001b[39m\u001b[39m\"\u001b[39m])\n\u001b[1;32m      <a href='vscode-notebook-cell:/Users/rchaks/Code/Trading/portfolio-management/portfolio.ipynb#X12sZmlsZQ%3D%3D?line=2'>3</a>\u001b[0m \u001b[39mprint\u001b[39m(\u001b[39m\"\u001b[39m\u001b[39mUnique Indices:\u001b[39m\u001b[39m\"\u001b[39m,\u001b[39mlen\u001b[39m(spy_ticker_set))\n",
      "File \u001b[0;32m~/opt/miniforge3/envs/options-trading/lib/python3.10/site-packages/pandas/util/_decorators.py:211\u001b[0m, in \u001b[0;36mdeprecate_kwarg.<locals>._deprecate_kwarg.<locals>.wrapper\u001b[0;34m(*args, **kwargs)\u001b[0m\n\u001b[1;32m    209\u001b[0m     \u001b[39melse\u001b[39;00m:\n\u001b[1;32m    210\u001b[0m         kwargs[new_arg_name] \u001b[39m=\u001b[39m new_arg_value\n\u001b[0;32m--> 211\u001b[0m \u001b[39mreturn\u001b[39;00m func(\u001b[39m*\u001b[39;49margs, \u001b[39m*\u001b[39;49m\u001b[39m*\u001b[39;49mkwargs)\n",
      "File \u001b[0;32m~/opt/miniforge3/envs/options-trading/lib/python3.10/site-packages/pandas/util/_decorators.py:331\u001b[0m, in \u001b[0;36mdeprecate_nonkeyword_arguments.<locals>.decorate.<locals>.wrapper\u001b[0;34m(*args, **kwargs)\u001b[0m\n\u001b[1;32m    325\u001b[0m \u001b[39mif\u001b[39;00m \u001b[39mlen\u001b[39m(args) \u001b[39m>\u001b[39m num_allow_args:\n\u001b[1;32m    326\u001b[0m     warnings\u001b[39m.\u001b[39mwarn(\n\u001b[1;32m    327\u001b[0m         msg\u001b[39m.\u001b[39mformat(arguments\u001b[39m=\u001b[39m_format_argument_list(allow_args)),\n\u001b[1;32m    328\u001b[0m         \u001b[39mFutureWarning\u001b[39;00m,\n\u001b[1;32m    329\u001b[0m         stacklevel\u001b[39m=\u001b[39mfind_stack_level(),\n\u001b[1;32m    330\u001b[0m     )\n\u001b[0;32m--> 331\u001b[0m \u001b[39mreturn\u001b[39;00m func(\u001b[39m*\u001b[39;49margs, \u001b[39m*\u001b[39;49m\u001b[39m*\u001b[39;49mkwargs)\n",
      "File \u001b[0;32m~/opt/miniforge3/envs/options-trading/lib/python3.10/site-packages/pandas/io/parsers/readers.py:950\u001b[0m, in \u001b[0;36mread_csv\u001b[0;34m(filepath_or_buffer, sep, delimiter, header, names, index_col, usecols, squeeze, prefix, mangle_dupe_cols, dtype, engine, converters, true_values, false_values, skipinitialspace, skiprows, skipfooter, nrows, na_values, keep_default_na, na_filter, verbose, skip_blank_lines, parse_dates, infer_datetime_format, keep_date_col, date_parser, dayfirst, cache_dates, iterator, chunksize, compression, thousands, decimal, lineterminator, quotechar, quoting, doublequote, escapechar, comment, encoding, encoding_errors, dialect, error_bad_lines, warn_bad_lines, on_bad_lines, delim_whitespace, low_memory, memory_map, float_precision, storage_options)\u001b[0m\n\u001b[1;32m    935\u001b[0m kwds_defaults \u001b[39m=\u001b[39m _refine_defaults_read(\n\u001b[1;32m    936\u001b[0m     dialect,\n\u001b[1;32m    937\u001b[0m     delimiter,\n\u001b[0;32m   (...)\u001b[0m\n\u001b[1;32m    946\u001b[0m     defaults\u001b[39m=\u001b[39m{\u001b[39m\"\u001b[39m\u001b[39mdelimiter\u001b[39m\u001b[39m\"\u001b[39m: \u001b[39m\"\u001b[39m\u001b[39m,\u001b[39m\u001b[39m\"\u001b[39m},\n\u001b[1;32m    947\u001b[0m )\n\u001b[1;32m    948\u001b[0m kwds\u001b[39m.\u001b[39mupdate(kwds_defaults)\n\u001b[0;32m--> 950\u001b[0m \u001b[39mreturn\u001b[39;00m _read(filepath_or_buffer, kwds)\n",
      "File \u001b[0;32m~/opt/miniforge3/envs/options-trading/lib/python3.10/site-packages/pandas/io/parsers/readers.py:605\u001b[0m, in \u001b[0;36m_read\u001b[0;34m(filepath_or_buffer, kwds)\u001b[0m\n\u001b[1;32m    602\u001b[0m _validate_names(kwds\u001b[39m.\u001b[39mget(\u001b[39m\"\u001b[39m\u001b[39mnames\u001b[39m\u001b[39m\"\u001b[39m, \u001b[39mNone\u001b[39;00m))\n\u001b[1;32m    604\u001b[0m \u001b[39m# Create the parser.\u001b[39;00m\n\u001b[0;32m--> 605\u001b[0m parser \u001b[39m=\u001b[39m TextFileReader(filepath_or_buffer, \u001b[39m*\u001b[39;49m\u001b[39m*\u001b[39;49mkwds)\n\u001b[1;32m    607\u001b[0m \u001b[39mif\u001b[39;00m chunksize \u001b[39mor\u001b[39;00m iterator:\n\u001b[1;32m    608\u001b[0m     \u001b[39mreturn\u001b[39;00m parser\n",
      "File \u001b[0;32m~/opt/miniforge3/envs/options-trading/lib/python3.10/site-packages/pandas/io/parsers/readers.py:1442\u001b[0m, in \u001b[0;36mTextFileReader.__init__\u001b[0;34m(self, f, engine, **kwds)\u001b[0m\n\u001b[1;32m   1439\u001b[0m     \u001b[39mself\u001b[39m\u001b[39m.\u001b[39moptions[\u001b[39m\"\u001b[39m\u001b[39mhas_index_names\u001b[39m\u001b[39m\"\u001b[39m] \u001b[39m=\u001b[39m kwds[\u001b[39m\"\u001b[39m\u001b[39mhas_index_names\u001b[39m\u001b[39m\"\u001b[39m]\n\u001b[1;32m   1441\u001b[0m \u001b[39mself\u001b[39m\u001b[39m.\u001b[39mhandles: IOHandles \u001b[39m|\u001b[39m \u001b[39mNone\u001b[39;00m \u001b[39m=\u001b[39m \u001b[39mNone\u001b[39;00m\n\u001b[0;32m-> 1442\u001b[0m \u001b[39mself\u001b[39m\u001b[39m.\u001b[39m_engine \u001b[39m=\u001b[39m \u001b[39mself\u001b[39;49m\u001b[39m.\u001b[39;49m_make_engine(f, \u001b[39mself\u001b[39;49m\u001b[39m.\u001b[39;49mengine)\n",
      "File \u001b[0;32m~/opt/miniforge3/envs/options-trading/lib/python3.10/site-packages/pandas/io/parsers/readers.py:1735\u001b[0m, in \u001b[0;36mTextFileReader._make_engine\u001b[0;34m(self, f, engine)\u001b[0m\n\u001b[1;32m   1733\u001b[0m     \u001b[39mif\u001b[39;00m \u001b[39m\"\u001b[39m\u001b[39mb\u001b[39m\u001b[39m\"\u001b[39m \u001b[39mnot\u001b[39;00m \u001b[39min\u001b[39;00m mode:\n\u001b[1;32m   1734\u001b[0m         mode \u001b[39m+\u001b[39m\u001b[39m=\u001b[39m \u001b[39m\"\u001b[39m\u001b[39mb\u001b[39m\u001b[39m\"\u001b[39m\n\u001b[0;32m-> 1735\u001b[0m \u001b[39mself\u001b[39m\u001b[39m.\u001b[39mhandles \u001b[39m=\u001b[39m get_handle(\n\u001b[1;32m   1736\u001b[0m     f,\n\u001b[1;32m   1737\u001b[0m     mode,\n\u001b[1;32m   1738\u001b[0m     encoding\u001b[39m=\u001b[39;49m\u001b[39mself\u001b[39;49m\u001b[39m.\u001b[39;49moptions\u001b[39m.\u001b[39;49mget(\u001b[39m\"\u001b[39;49m\u001b[39mencoding\u001b[39;49m\u001b[39m\"\u001b[39;49m, \u001b[39mNone\u001b[39;49;00m),\n\u001b[1;32m   1739\u001b[0m     compression\u001b[39m=\u001b[39;49m\u001b[39mself\u001b[39;49m\u001b[39m.\u001b[39;49moptions\u001b[39m.\u001b[39;49mget(\u001b[39m\"\u001b[39;49m\u001b[39mcompression\u001b[39;49m\u001b[39m\"\u001b[39;49m, \u001b[39mNone\u001b[39;49;00m),\n\u001b[1;32m   1740\u001b[0m     memory_map\u001b[39m=\u001b[39;49m\u001b[39mself\u001b[39;49m\u001b[39m.\u001b[39;49moptions\u001b[39m.\u001b[39;49mget(\u001b[39m\"\u001b[39;49m\u001b[39mmemory_map\u001b[39;49m\u001b[39m\"\u001b[39;49m, \u001b[39mFalse\u001b[39;49;00m),\n\u001b[1;32m   1741\u001b[0m     is_text\u001b[39m=\u001b[39;49mis_text,\n\u001b[1;32m   1742\u001b[0m     errors\u001b[39m=\u001b[39;49m\u001b[39mself\u001b[39;49m\u001b[39m.\u001b[39;49moptions\u001b[39m.\u001b[39;49mget(\u001b[39m\"\u001b[39;49m\u001b[39mencoding_errors\u001b[39;49m\u001b[39m\"\u001b[39;49m, \u001b[39m\"\u001b[39;49m\u001b[39mstrict\u001b[39;49m\u001b[39m\"\u001b[39;49m),\n\u001b[1;32m   1743\u001b[0m     storage_options\u001b[39m=\u001b[39;49m\u001b[39mself\u001b[39;49m\u001b[39m.\u001b[39;49moptions\u001b[39m.\u001b[39;49mget(\u001b[39m\"\u001b[39;49m\u001b[39mstorage_options\u001b[39;49m\u001b[39m\"\u001b[39;49m, \u001b[39mNone\u001b[39;49;00m),\n\u001b[1;32m   1744\u001b[0m )\n\u001b[1;32m   1745\u001b[0m \u001b[39massert\u001b[39;00m \u001b[39mself\u001b[39m\u001b[39m.\u001b[39mhandles \u001b[39mis\u001b[39;00m \u001b[39mnot\u001b[39;00m \u001b[39mNone\u001b[39;00m\n\u001b[1;32m   1746\u001b[0m f \u001b[39m=\u001b[39m \u001b[39mself\u001b[39m\u001b[39m.\u001b[39mhandles\u001b[39m.\u001b[39mhandle\n",
      "File \u001b[0;32m~/opt/miniforge3/envs/options-trading/lib/python3.10/site-packages/pandas/io/common.py:856\u001b[0m, in \u001b[0;36mget_handle\u001b[0;34m(path_or_buf, mode, encoding, compression, memory_map, is_text, errors, storage_options)\u001b[0m\n\u001b[1;32m    851\u001b[0m \u001b[39melif\u001b[39;00m \u001b[39misinstance\u001b[39m(handle, \u001b[39mstr\u001b[39m):\n\u001b[1;32m    852\u001b[0m     \u001b[39m# Check whether the filename is to be opened in binary mode.\u001b[39;00m\n\u001b[1;32m    853\u001b[0m     \u001b[39m# Binary mode does not support 'encoding' and 'newline'.\u001b[39;00m\n\u001b[1;32m    854\u001b[0m     \u001b[39mif\u001b[39;00m ioargs\u001b[39m.\u001b[39mencoding \u001b[39mand\u001b[39;00m \u001b[39m\"\u001b[39m\u001b[39mb\u001b[39m\u001b[39m\"\u001b[39m \u001b[39mnot\u001b[39;00m \u001b[39min\u001b[39;00m ioargs\u001b[39m.\u001b[39mmode:\n\u001b[1;32m    855\u001b[0m         \u001b[39m# Encoding\u001b[39;00m\n\u001b[0;32m--> 856\u001b[0m         handle \u001b[39m=\u001b[39m \u001b[39mopen\u001b[39;49m(\n\u001b[1;32m    857\u001b[0m             handle,\n\u001b[1;32m    858\u001b[0m             ioargs\u001b[39m.\u001b[39;49mmode,\n\u001b[1;32m    859\u001b[0m             encoding\u001b[39m=\u001b[39;49mioargs\u001b[39m.\u001b[39;49mencoding,\n\u001b[1;32m    860\u001b[0m             errors\u001b[39m=\u001b[39;49merrors,\n\u001b[1;32m    861\u001b[0m             newline\u001b[39m=\u001b[39;49m\u001b[39m\"\u001b[39;49m\u001b[39m\"\u001b[39;49m,\n\u001b[1;32m    862\u001b[0m         )\n\u001b[1;32m    863\u001b[0m     \u001b[39melse\u001b[39;00m:\n\u001b[1;32m    864\u001b[0m         \u001b[39m# Binary mode\u001b[39;00m\n\u001b[1;32m    865\u001b[0m         handle \u001b[39m=\u001b[39m \u001b[39mopen\u001b[39m(handle, ioargs\u001b[39m.\u001b[39mmode)\n",
      "\u001b[0;31mFileNotFoundError\u001b[0m: [Errno 2] No such file or directory: './data/sp500_constituents.csv'"
     ]
    }
   ],
   "source": [
    "spy_ticker_data = pd.read_csv(\"./data/sp500_constituents.csv\")\n",
    "spy_ticker_set = set(spy_ticker_data[\"Symbol\"])\n",
    "print(\"Unique Indices:\",len(spy_ticker_set))\n",
    "spy_ticker = dict()\n",
    "for year in spy_ticker_data[\"Year\"].unique():\n",
    "    spy_ticker[year] = list(spy_ticker_data[spy_ticker_data[\"Year\"] == year][\"Symbol\"])\n",
    "# spy_ticker"
   ]
  },
  {
   "cell_type": "markdown",
   "metadata": {},
   "source": [
    "Fetch data from WRDS using the  list\n",
    "\n",
    "***"
   ]
  },
  {
   "cell_type": "markdown",
   "metadata": {},
   "source": [
    "## Read Daily Stock data from WRDS\n"
   ]
  },
  {
   "cell_type": "markdown",
   "metadata": {},
   "source": [
    "### Desciption:\n",
    "\n",
    "- GVKEY: Company Code ?\n",
    "- IID  : Issue ID - Dividents ?\n",
    "- DATADATE: Date\n",
    "- TIC: Company Ticker\n",
    "- CUSIP: Company CUSIP Code\n",
    "- CONM : Company Name\n",
    "- CSHOC : Shares Outstanding\n",
    "- CSHTRD : Trading Volume\n",
    "- PRCCD : Price Close Daily\n",
    "- PRCHD : Price High Daily\n",
    "- PRCLD : Price Low Daily\n",
    "- PRCOD : Price Open Daily\n",
    "- TRFD  : Total Return Factor Daily\n",
    "- EXCHG : Stock Exchange Code\n",
    "- BUSDESC : S&P Business Description\n",
    "- GGROUP : GIC Groups\n",
    "- GIND : GIC Industries\n",
    "- GSECTOR : GIC Sector\n",
    "- GSUBIND : GIC Sub-Industry\n",
    "\n",
    "**Looking at stocks since 01 Jan 2010**"
   ]
  },
  {
   "cell_type": "code",
   "execution_count": 6,
   "metadata": {},
   "outputs": [
    {
     "name": "stdout",
     "output_type": "stream",
     "text": [
      "Number of unique tickers: 1190\n",
      "Dimensions:  (2183146, 5)\n",
      "datadate        0\n",
      "tic             0\n",
      "div             0\n",
      "shares      49497\n",
      "close         553\n",
      "dtype: int64\n"
     ]
    },
    {
     "data": {
      "text/html": [
       "<div>\n",
       "<style scoped>\n",
       "    .dataframe tbody tr th:only-of-type {\n",
       "        vertical-align: middle;\n",
       "    }\n",
       "\n",
       "    .dataframe tbody tr th {\n",
       "        vertical-align: top;\n",
       "    }\n",
       "\n",
       "    .dataframe thead th {\n",
       "        text-align: right;\n",
       "    }\n",
       "</style>\n",
       "<table border=\"1\" class=\"dataframe\">\n",
       "  <thead>\n",
       "    <tr style=\"text-align: right;\">\n",
       "      <th></th>\n",
       "      <th>datadate</th>\n",
       "      <th>tic</th>\n",
       "      <th>div</th>\n",
       "      <th>shares</th>\n",
       "      <th>close</th>\n",
       "    </tr>\n",
       "  </thead>\n",
       "  <tbody>\n",
       "    <tr>\n",
       "      <th>5592</th>\n",
       "      <td>2010-01-13</td>\n",
       "      <td>Z.1</td>\n",
       "      <td>0.1546</td>\n",
       "      <td>NaN</td>\n",
       "      <td>NaN</td>\n",
       "    </tr>\n",
       "    <tr>\n",
       "      <th>8973</th>\n",
       "      <td>2010-01-20</td>\n",
       "      <td>RRD.2</td>\n",
       "      <td>0.2721</td>\n",
       "      <td>NaN</td>\n",
       "      <td>NaN</td>\n",
       "    </tr>\n",
       "    <tr>\n",
       "      <th>12443</th>\n",
       "      <td>2010-01-27</td>\n",
       "      <td>5050B</td>\n",
       "      <td>0.1950</td>\n",
       "      <td>NaN</td>\n",
       "      <td>NaN</td>\n",
       "    </tr>\n",
       "    <tr>\n",
       "      <th>20504</th>\n",
       "      <td>2010-02-10</td>\n",
       "      <td>0051B</td>\n",
       "      <td>0.1250</td>\n",
       "      <td>NaN</td>\n",
       "      <td>NaN</td>\n",
       "    </tr>\n",
       "    <tr>\n",
       "      <th>20505</th>\n",
       "      <td>2010-02-10</td>\n",
       "      <td>0050B</td>\n",
       "      <td>0.0730</td>\n",
       "      <td>NaN</td>\n",
       "      <td>NaN</td>\n",
       "    </tr>\n",
       "    <tr>\n",
       "      <th>...</th>\n",
       "      <td>...</td>\n",
       "      <td>...</td>\n",
       "      <td>...</td>\n",
       "      <td>...</td>\n",
       "      <td>...</td>\n",
       "    </tr>\n",
       "    <tr>\n",
       "      <th>2141545</th>\n",
       "      <td>2020-10-15</td>\n",
       "      <td>Z.1</td>\n",
       "      <td>0.1983</td>\n",
       "      <td>NaN</td>\n",
       "      <td>NaN</td>\n",
       "    </tr>\n",
       "    <tr>\n",
       "      <th>2142940</th>\n",
       "      <td>2020-10-16</td>\n",
       "      <td>PLP.Z</td>\n",
       "      <td>0.5671</td>\n",
       "      <td>NaN</td>\n",
       "      <td>NaN</td>\n",
       "    </tr>\n",
       "    <tr>\n",
       "      <th>2165919</th>\n",
       "      <td>2020-11-30</td>\n",
       "      <td>6525B</td>\n",
       "      <td>0.4005</td>\n",
       "      <td>NaN</td>\n",
       "      <td>NaN</td>\n",
       "    </tr>\n",
       "    <tr>\n",
       "      <th>2173465</th>\n",
       "      <td>2020-12-14</td>\n",
       "      <td>AHC.2</td>\n",
       "      <td>0.3187</td>\n",
       "      <td>NaN</td>\n",
       "      <td>NaN</td>\n",
       "    </tr>\n",
       "    <tr>\n",
       "      <th>2181659</th>\n",
       "      <td>2020-12-30</td>\n",
       "      <td>PXD.</td>\n",
       "      <td>0.7018</td>\n",
       "      <td>NaN</td>\n",
       "      <td>NaN</td>\n",
       "    </tr>\n",
       "  </tbody>\n",
       "</table>\n",
       "<p>553 rows × 5 columns</p>\n",
       "</div>"
      ],
      "text/plain": [
       "          datadate    tic     div  shares  close\n",
       "5592    2010-01-13    Z.1  0.1546     NaN    NaN\n",
       "8973    2010-01-20  RRD.2  0.2721     NaN    NaN\n",
       "12443   2010-01-27  5050B  0.1950     NaN    NaN\n",
       "20504   2010-02-10  0051B  0.1250     NaN    NaN\n",
       "20505   2010-02-10  0050B  0.0730     NaN    NaN\n",
       "...            ...    ...     ...     ...    ...\n",
       "2141545 2020-10-15    Z.1  0.1983     NaN    NaN\n",
       "2142940 2020-10-16  PLP.Z  0.5671     NaN    NaN\n",
       "2165919 2020-11-30  6525B  0.4005     NaN    NaN\n",
       "2173465 2020-12-14  AHC.2  0.3187     NaN    NaN\n",
       "2181659 2020-12-30   PXD.  0.7018     NaN    NaN\n",
       "\n",
       "[553 rows x 5 columns]"
      ]
     },
     "execution_count": 6,
     "metadata": {},
     "output_type": "execute_result"
    }
   ],
   "source": [
    "spy_dataframe = data[data[\"datadate\"] >= pd.to_datetime(\"01-01-2010\")]\n",
    "\n",
    "# Temporay measure b/c our spy_ticker does not have 2021 data\n",
    "spy_dataframe = data[data[\"datadate\"] <= pd.to_datetime(\"01-01-2021\")]\n",
    "print(\"Number of unique tickers:\",len(spy_dataframe.tic.value_counts()))\n",
    "spy_data = spy_dataframe[[\"datadate\",\"tic\",\"div\",\"shares\",\"close\"]].reset_index(drop=True)\n",
    "print(\"Dimensions: \",spy_data.shape)\n",
    "print(spy_data.isna().sum())\n",
    "spy_data[np.isnan(spy_data.close)]"
   ]
  },
  {
   "cell_type": "markdown",
   "metadata": {},
   "source": [
    "**Removing 29 Oct 2012 b/c everything is NaN. so portfolio becomes Nan**\n",
    "\n",
    "Just a couple of Nan values in close.\n",
    "Should not affect quaterly averages."
   ]
  },
  {
   "cell_type": "code",
   "execution_count": 7,
   "metadata": {},
   "outputs": [
    {
     "name": "stdout",
     "output_type": "stream",
     "text": [
      "datadate        0\n",
      "tic             0\n",
      "div             0\n",
      "shares      48944\n",
      "close           0\n",
      "dtype: int64\n"
     ]
    }
   ],
   "source": [
    "spy_data.drop(index = spy_data[spy_data.close.isna()].index, inplace=True)\n",
    "print(spy_data.isna().sum())"
   ]
  },
  {
   "cell_type": "code",
   "execution_count": 8,
   "metadata": {},
   "outputs": [
    {
     "data": {
      "text/html": [
       "<div>\n",
       "<style scoped>\n",
       "    .dataframe tbody tr th:only-of-type {\n",
       "        vertical-align: middle;\n",
       "    }\n",
       "\n",
       "    .dataframe tbody tr th {\n",
       "        vertical-align: top;\n",
       "    }\n",
       "\n",
       "    .dataframe thead th {\n",
       "        text-align: right;\n",
       "    }\n",
       "</style>\n",
       "<table border=\"1\" class=\"dataframe\">\n",
       "  <thead>\n",
       "    <tr style=\"text-align: right;\">\n",
       "      <th></th>\n",
       "      <th></th>\n",
       "      <th>div</th>\n",
       "      <th>shares</th>\n",
       "      <th>close</th>\n",
       "    </tr>\n",
       "    <tr>\n",
       "      <th>datadate</th>\n",
       "      <th>tic</th>\n",
       "      <th></th>\n",
       "      <th></th>\n",
       "      <th></th>\n",
       "    </tr>\n",
       "  </thead>\n",
       "  <tbody>\n",
       "    <tr>\n",
       "      <th rowspan=\"5\" valign=\"top\">2010-01-04</th>\n",
       "      <th>AAMRQ</th>\n",
       "      <td>0.0</td>\n",
       "      <td>3.324560e+08</td>\n",
       "      <td>7.72</td>\n",
       "    </tr>\n",
       "    <tr>\n",
       "      <th>MRO</th>\n",
       "      <td>0.0</td>\n",
       "      <td>7.078450e+08</td>\n",
       "      <td>32.11</td>\n",
       "    </tr>\n",
       "    <tr>\n",
       "      <th>PCS</th>\n",
       "      <td>0.0</td>\n",
       "      <td>3.524010e+08</td>\n",
       "      <td>7.97</td>\n",
       "    </tr>\n",
       "    <tr>\n",
       "      <th>LOW</th>\n",
       "      <td>0.0</td>\n",
       "      <td>1.472032e+09</td>\n",
       "      <td>23.16</td>\n",
       "    </tr>\n",
       "    <tr>\n",
       "      <th>GOOGL</th>\n",
       "      <td>0.0</td>\n",
       "      <td>2.429990e+08</td>\n",
       "      <td>626.75</td>\n",
       "    </tr>\n",
       "    <tr>\n",
       "      <th>...</th>\n",
       "      <th>...</th>\n",
       "      <td>...</td>\n",
       "      <td>...</td>\n",
       "      <td>...</td>\n",
       "    </tr>\n",
       "    <tr>\n",
       "      <th rowspan=\"5\" valign=\"top\">2020-12-31</th>\n",
       "      <th>EXR</th>\n",
       "      <td>0.0</td>\n",
       "      <td>1.292350e+08</td>\n",
       "      <td>115.86</td>\n",
       "    </tr>\n",
       "    <tr>\n",
       "      <th>AON</th>\n",
       "      <td>0.0</td>\n",
       "      <td>2.286160e+08</td>\n",
       "      <td>211.27</td>\n",
       "    </tr>\n",
       "    <tr>\n",
       "      <th>BAC.PM</th>\n",
       "      <td>0.0</td>\n",
       "      <td>5.590000e+07</td>\n",
       "      <td>27.31</td>\n",
       "    </tr>\n",
       "    <tr>\n",
       "      <th>MSI</th>\n",
       "      <td>0.0</td>\n",
       "      <td>1.695230e+08</td>\n",
       "      <td>170.06</td>\n",
       "    </tr>\n",
       "    <tr>\n",
       "      <th>L</th>\n",
       "      <td>0.0</td>\n",
       "      <td>2.748730e+08</td>\n",
       "      <td>45.02</td>\n",
       "    </tr>\n",
       "  </tbody>\n",
       "</table>\n",
       "<p>2182593 rows × 3 columns</p>\n",
       "</div>"
      ],
      "text/plain": [
       "                   div        shares   close\n",
       "datadate   tic                              \n",
       "2010-01-04 AAMRQ   0.0  3.324560e+08    7.72\n",
       "           MRO     0.0  7.078450e+08   32.11\n",
       "           PCS     0.0  3.524010e+08    7.97\n",
       "           LOW     0.0  1.472032e+09   23.16\n",
       "           GOOGL   0.0  2.429990e+08  626.75\n",
       "...                ...           ...     ...\n",
       "2020-12-31 EXR     0.0  1.292350e+08  115.86\n",
       "           AON     0.0  2.286160e+08  211.27\n",
       "           BAC.PM  0.0  5.590000e+07   27.31\n",
       "           MSI     0.0  1.695230e+08  170.06\n",
       "           L       0.0  2.748730e+08   45.02\n",
       "\n",
       "[2182593 rows x 3 columns]"
      ]
     },
     "execution_count": 8,
     "metadata": {},
     "output_type": "execute_result"
    }
   ],
   "source": [
    "spy_data = spy_data.set_index([\"datadate\",\"tic\"])\n",
    "spy_data"
   ]
  },
  {
   "cell_type": "code",
   "execution_count": 9,
   "metadata": {},
   "outputs": [
    {
     "data": {
      "text/plain": [
       "[Timestamp('2010-01-04 00:00:00'),\n",
       " Timestamp('2010-01-05 00:00:00'),\n",
       " Timestamp('2010-01-06 00:00:00'),\n",
       " Timestamp('2010-01-07 00:00:00'),\n",
       " Timestamp('2010-01-08 00:00:00')]"
      ]
     },
     "execution_count": 9,
     "metadata": {},
     "output_type": "execute_result"
    }
   ],
   "source": [
    "market_calendar_dates = sorted(list(set(map(lambda x: x[0],spy_data.index.values))))\n",
    "market_calendar_dates[0:5]"
   ]
  },
  {
   "cell_type": "markdown",
   "metadata": {},
   "source": [
    "## Executing Portfolio"
   ]
  },
  {
   "cell_type": "code",
   "execution_count": 10,
   "metadata": {},
   "outputs": [
    {
     "name": "stdout",
     "output_type": "stream",
     "text": [
      "Building Portfolios and Initialising Trading Algorithms\n",
      "Target Index: S&P500\n",
      "Trading Algorithm: MarketCap Weighted Portfolio\n",
      "Starting Investment: 1000000\n",
      "Current Investment: 1000000\n"
     ]
    }
   ],
   "source": [
    "spy_portfolio = Portfolio(target=\"S&P500\",\n",
    "                        tickerset= spy_ticker, investment= 1000000,\n",
    "                        trading_algo= \"SNP500_Algo\",\n",
    "                        rebalance=4, reconstitute=12)\n",
    "\n",
    "spy_portfolio.echo()"
   ]
  },
  {
   "cell_type": "code",
   "execution_count": 11,
   "metadata": {},
   "outputs": [
    {
     "name": "stdout",
     "output_type": "stream",
     "text": [
      "Reconstitution on: 04-Jan-2010\n",
      "\tRebalancing on: 04-Jan-2010\n"
     ]
    },
    {
     "name": "stderr",
     "output_type": "stream",
     "text": [
      "/Users/rchaks/Code/GitHub/portfolio-management/trading_algo.py:21: SettingWithCopyWarning: \n",
      "A value is trying to be set on a copy of a slice from a DataFrame.\n",
      "Try using .loc[row_indexer,col_indexer] = value instead\n",
      "\n",
      "See the caveats in the documentation: https://pandas.pydata.org/pandas-docs/stable/user_guide/indexing.html#returning-a-view-versus-a-copy\n",
      "  price[\"cap\"] = price[\"shares\"]*price[\"close\"]\n"
     ]
    },
    {
     "name": "stdout",
     "output_type": "stream",
     "text": [
      "\tRebalancing on: 03-May-2010\n",
      "\tRebalancing on: 01-Sep-2010\n",
      "Reconstitution on: 03-Jan-2011\n",
      "\tRebalancing on: 03-Jan-2011\n",
      "\tRebalancing on: 02-May-2011\n",
      "\tRebalancing on: 01-Sep-2011\n",
      "Reconstitution on: 03-Jan-2012\n",
      "\tRebalancing on: 03-Jan-2012\n",
      "\tRebalancing on: 01-May-2012\n",
      "\tRebalancing on: 04-Sep-2012\n",
      "2012-10-26 00:00:00 2012-10-29 -1 -1\n",
      "Reconstitution on: 02-Jan-2013\n",
      "\tRebalancing on: 02-Jan-2013\n",
      "\tRebalancing on: 01-May-2013\n",
      "\tRebalancing on: 03-Sep-2013\n",
      "Reconstitution on: 02-Jan-2014\n",
      "\tRebalancing on: 02-Jan-2014\n",
      "\tRebalancing on: 01-May-2014\n",
      "2014-05-23 00:00:00 2014-05-26 -1 -1\n",
      "2014-07-03 00:00:00 2014-07-04 -1 -1\n",
      "\tRebalancing on: 02-Sep-2014\n",
      "2014-11-26 00:00:00 2014-11-27 -1 -1\n",
      "Reconstitution on: 02-Jan-2015\n",
      "\tRebalancing on: 02-Jan-2015\n",
      "2015-01-16 00:00:00 2015-01-19 -1 -1\n",
      "\tRebalancing on: 01-May-2015\n",
      "2015-05-22 00:00:00 2015-05-25 -1 -1\n",
      "2015-07-02 00:00:00 2015-07-03 -1 -1\n",
      "\tRebalancing on: 01-Sep-2015\n",
      "2015-11-25 00:00:00 2015-11-26 -1 -1\n",
      "Reconstitution on: 04-Jan-2016\n",
      "\tRebalancing on: 04-Jan-2016\n",
      "2016-01-15 00:00:00 2016-01-18 -1 -1\n",
      "\tRebalancing on: 02-May-2016\n",
      "2016-05-27 00:00:00 2016-05-30 -1 -1\n",
      "2016-07-01 00:00:00 2016-07-04 -1 -1\n",
      "\tRebalancing on: 01-Sep-2016\n",
      "2016-11-23 00:00:00 2016-11-24 -1 -1\n",
      "Reconstitution on: 03-Jan-2017\n",
      "\tRebalancing on: 03-Jan-2017\n",
      "2017-01-13 00:00:00 2017-01-16 -1 -1\n",
      "\tRebalancing on: 01-May-2017\n",
      "\tRebalancing on: 01-Sep-2017\n",
      "Reconstitution on: 02-Jan-2018\n",
      "\tRebalancing on: 02-Jan-2018\n",
      "\tRebalancing on: 01-May-2018\n",
      "\tRebalancing on: 04-Sep-2018\n",
      "Reconstitution on: 02-Jan-2019\n",
      "\tRebalancing on: 02-Jan-2019\n",
      "\tRebalancing on: 01-May-2019\n",
      "2019-05-24 00:00:00 2019-05-27 -1 -1\n",
      "2019-07-03 00:00:00 2019-07-04 -1 -1\n",
      "\tRebalancing on: 03-Sep-2019\n",
      "2019-11-27 00:00:00 2019-11-28 -1 -1\n",
      "Reconstitution on: 02-Jan-2020\n",
      "\tRebalancing on: 02-Jan-2020\n",
      "2020-01-17 00:00:00 2020-01-20 -1 -1\n",
      "\tRebalancing on: 01-May-2020\n",
      "2020-05-22 00:00:00 2020-05-25 -1 -1\n",
      "2020-07-02 00:00:00 2020-07-03 -1 -1\n",
      "\tRebalancing on: 01-Sep-2020\n",
      "2020-11-25 00:00:00 2020-11-26 -1 -1\n"
     ]
    }
   ],
   "source": [
    "portfolio_val = pd.Series([], dtype=float)\n",
    "portfolio_returns = pd.Series([], dtype=float)\n",
    "\n",
    "for date in market_calendar_dates:\n",
    "    tmpdf = spy_data.loc[date,:]\n",
    "    valuation, returns =  spy_portfolio.run(date= date, price= tmpdf, tickerlist = spy_ticker[date.year])\n",
    "    if (valuation, returns) == (-1,-1):\n",
    "        print(portfolio_val.index[-1],date.date(), valuation, returns)\n",
    "        continue\n",
    "    portfolio_val[date] = valuation\n",
    "    portfolio_returns[date] = returns"
   ]
  },
  {
   "cell_type": "code",
   "execution_count": 12,
   "metadata": {},
   "outputs": [
    {
     "name": "stdout",
     "output_type": "stream",
     "text": [
      "Target Index: S&P500\n",
      "Trading Algorithm: MarketCap Weighted Portfolio\n",
      "Starting Investment: 1000000\n",
      "Current Investment: 3004668.62857526\n",
      "Constituent Indices: MMM, ABT, ABBV, ABMD, ACN ...\n",
      "Constituent Weights: tic\n",
      "SWK     14.555927\n",
      "DXC     23.171327\n",
      "O       31.452277\n",
      "EFX     11.071500\n",
      "NTRS    18.968866\n",
      "dtype: float64\n"
     ]
    }
   ],
   "source": [
    "spy_portfolio.echo()\n",
    "# print(\"Net return since start: \",spy_portfolio.net_return()*100,\"%\")"
   ]
  },
  {
   "cell_type": "code",
   "execution_count": 13,
   "metadata": {},
   "outputs": [
    {
     "name": "stdout",
     "output_type": "stream",
     "text": [
      "daily return:  0.04143867599750717 %\n"
     ]
    }
   ],
   "source": [
    "from scipy.stats.mstats import gmean\n",
    "print(\"daily return: \",(gmean(portfolio_returns.fillna(1)+1)-1)*100,\"%\")"
   ]
  },
  {
   "cell_type": "markdown",
   "metadata": {},
   "source": [
    "## S&P Index, ETF and Mutual Fund"
   ]
  },
  {
   "cell_type": "code",
   "execution_count": 14,
   "metadata": {},
   "outputs": [
    {
     "name": "stdout",
     "output_type": "stream",
     "text": [
      "[*********************100%***********************]  3 of 3 completed\n"
     ]
    },
    {
     "data": {
      "text/html": [
       "<div>\n",
       "<style scoped>\n",
       "    .dataframe tbody tr th:only-of-type {\n",
       "        vertical-align: middle;\n",
       "    }\n",
       "\n",
       "    .dataframe tbody tr th {\n",
       "        vertical-align: top;\n",
       "    }\n",
       "\n",
       "    .dataframe thead th {\n",
       "        text-align: right;\n",
       "    }\n",
       "</style>\n",
       "<table border=\"1\" class=\"dataframe\">\n",
       "  <thead>\n",
       "    <tr style=\"text-align: right;\">\n",
       "      <th></th>\n",
       "      <th>SPY</th>\n",
       "      <th>VFIAX</th>\n",
       "      <th>^GSPC</th>\n",
       "    </tr>\n",
       "    <tr>\n",
       "      <th>Date</th>\n",
       "      <th></th>\n",
       "      <th></th>\n",
       "      <th></th>\n",
       "    </tr>\n",
       "  </thead>\n",
       "  <tbody>\n",
       "    <tr>\n",
       "      <th>2010-01-04</th>\n",
       "      <td>113.330002</td>\n",
       "      <td>NaN</td>\n",
       "      <td>1132.989990</td>\n",
       "    </tr>\n",
       "    <tr>\n",
       "      <th>2010-01-05</th>\n",
       "      <td>113.629997</td>\n",
       "      <td>NaN</td>\n",
       "      <td>1136.520020</td>\n",
       "    </tr>\n",
       "    <tr>\n",
       "      <th>2010-01-06</th>\n",
       "      <td>113.709999</td>\n",
       "      <td>NaN</td>\n",
       "      <td>1137.140015</td>\n",
       "    </tr>\n",
       "    <tr>\n",
       "      <th>2010-01-07</th>\n",
       "      <td>114.190002</td>\n",
       "      <td>NaN</td>\n",
       "      <td>1141.689941</td>\n",
       "    </tr>\n",
       "    <tr>\n",
       "      <th>2010-01-08</th>\n",
       "      <td>114.570000</td>\n",
       "      <td>NaN</td>\n",
       "      <td>1144.979980</td>\n",
       "    </tr>\n",
       "  </tbody>\n",
       "</table>\n",
       "</div>"
      ],
      "text/plain": [
       "                   SPY  VFIAX        ^GSPC\n",
       "Date                                      \n",
       "2010-01-04  113.330002    NaN  1132.989990\n",
       "2010-01-05  113.629997    NaN  1136.520020\n",
       "2010-01-06  113.709999    NaN  1137.140015\n",
       "2010-01-07  114.190002    NaN  1141.689941\n",
       "2010-01-08  114.570000    NaN  1144.979980"
      ]
     },
     "execution_count": 14,
     "metadata": {},
     "output_type": "execute_result"
    }
   ],
   "source": [
    "benchmark_data = yf.download(\"^GSPC SPY VFIAX\", start=\"2010-01-01\", end=\"2020-12-31\")\n",
    "benchmark_data = benchmark_data[\"Close\"]#.loc[portfolio_returns.index]\n",
    "benchmark_data.head()"
   ]
  },
  {
   "cell_type": "code",
   "execution_count": 15,
   "metadata": {},
   "outputs": [
    {
     "data": {
      "text/html": [
       "<div>\n",
       "<style scoped>\n",
       "    .dataframe tbody tr th:only-of-type {\n",
       "        vertical-align: middle;\n",
       "    }\n",
       "\n",
       "    .dataframe tbody tr th {\n",
       "        vertical-align: top;\n",
       "    }\n",
       "\n",
       "    .dataframe thead th {\n",
       "        text-align: right;\n",
       "    }\n",
       "</style>\n",
       "<table border=\"1\" class=\"dataframe\">\n",
       "  <thead>\n",
       "    <tr style=\"text-align: right;\">\n",
       "      <th></th>\n",
       "      <th>SPY</th>\n",
       "      <th>VFIAX</th>\n",
       "      <th>^GSPC</th>\n",
       "    </tr>\n",
       "    <tr>\n",
       "      <th>Date</th>\n",
       "      <th></th>\n",
       "      <th></th>\n",
       "      <th></th>\n",
       "    </tr>\n",
       "  </thead>\n",
       "  <tbody>\n",
       "    <tr>\n",
       "      <th>2010-01-04</th>\n",
       "      <td>0.000000</td>\n",
       "      <td>0.0</td>\n",
       "      <td>0.000000</td>\n",
       "    </tr>\n",
       "    <tr>\n",
       "      <th>2010-01-05</th>\n",
       "      <td>0.002647</td>\n",
       "      <td>0.0</td>\n",
       "      <td>0.003116</td>\n",
       "    </tr>\n",
       "    <tr>\n",
       "      <th>2010-01-06</th>\n",
       "      <td>0.000704</td>\n",
       "      <td>0.0</td>\n",
       "      <td>0.000546</td>\n",
       "    </tr>\n",
       "    <tr>\n",
       "      <th>2010-01-07</th>\n",
       "      <td>0.004221</td>\n",
       "      <td>0.0</td>\n",
       "      <td>0.004001</td>\n",
       "    </tr>\n",
       "    <tr>\n",
       "      <th>2010-01-08</th>\n",
       "      <td>0.003328</td>\n",
       "      <td>0.0</td>\n",
       "      <td>0.002882</td>\n",
       "    </tr>\n",
       "  </tbody>\n",
       "</table>\n",
       "</div>"
      ],
      "text/plain": [
       "                 SPY  VFIAX     ^GSPC\n",
       "Date                                 \n",
       "2010-01-04  0.000000    0.0  0.000000\n",
       "2010-01-05  0.002647    0.0  0.003116\n",
       "2010-01-06  0.000704    0.0  0.000546\n",
       "2010-01-07  0.004221    0.0  0.004001\n",
       "2010-01-08  0.003328    0.0  0.002882"
      ]
     },
     "execution_count": 15,
     "metadata": {},
     "output_type": "execute_result"
    }
   ],
   "source": [
    "baseline_return = benchmark_data.apply(daily_returns).fillna(0)\n",
    "baseline_return.head()"
   ]
  },
  {
   "cell_type": "markdown",
   "metadata": {},
   "source": [
    "## Plot"
   ]
  },
  {
   "cell_type": "code",
   "execution_count": 16,
   "metadata": {},
   "outputs": [],
   "source": [
    "# fig, ax = plt.subplots(1,2, sharex= False, sharey=False)\n",
    "# fig.set_size_inches(30, 10,  forward=True)\n",
    "\n",
    "# ax[0].plot(portfolio_val)\n",
    "# ax[0].plot(benchmark_data[\"^GSPC\"]*900)\n",
    "# ax[0].plot(benchmark_data[\"SPY\"]*8961.3)\n",
    "# ax[0].plot(benchmark_data[\"VFIAX\"]*9600)\n",
    "# ax[0].legend([\"Portfolio Value\",\"^GSPC\",\"SPY\",\"VFIAX\"])\n",
    "# ax[0].set_xlabel(\"Time\")\n",
    "# ax[0].set_ylabel(\"Portfolio Net Asset Value (in million $)\")\n",
    "# ax[0].set_title(\"Portfolio v/s benchmarks - Valuation\")\n",
    "\n",
    "# ax[1].plot(portfolio_returns)\n",
    "# ax[1].plot(baseline_return[\"^GSPC\"])\n",
    "# ax[1].plot(baseline_return[\"SPY\"])\n",
    "# ax[1].plot(baseline_return[\"VFIAX\"])\n",
    "# ax[1].legend([\"Portfolio Returns\",\"^GSPC\",\"SPY\",\"VFIAX\"])\n",
    "# ax[1].set_xlabel(\"Time\")\n",
    "# ax[1].set_ylabel(\"Portfolio Daily Returns\")\n",
    "# ax[1].set_title(\"Portfolio v/s benchmarks - Returns\")\n",
    "\n",
    "# fig.suptitle('S&P 500 Replicating Portfolio',fontsize=20);"
   ]
  },
  {
   "cell_type": "code",
   "execution_count": 17,
   "metadata": {},
   "outputs": [
    {
     "name": "stdout",
     "output_type": "stream",
     "text": [
      "Tracking error between our portfolio and SPY is 0.27%\n",
      "Tracking error between our portfolio and VFIAX is 0.8999999999999999%\n",
      "Tracking error between our portfolio and ^GSPC is 0.255%\n"
     ]
    }
   ],
   "source": [
    "tracking_error_spy = baseline_return.apply(lambda x: (tracking_error(portfolio_returns,x)))\n",
    "for index, value in tracking_error_spy.iteritems():\n",
    "    print(\"Tracking error between our portfolio and {target} is {std}%\".format(target = index, std = str(round(value,5)*100)))"
   ]
  },
  {
   "cell_type": "code",
   "execution_count": 18,
   "metadata": {},
   "outputs": [
    {
     "data": {
      "image/png": "[encoded data removed]",
      "text/plain": [
       "<Figure size 2160x720 with 1 Axes>"
      ]
     },
     "metadata": {},
     "output_type": "display_data"
    }
   ],
   "source": [
    "plt.figure().set_size_inches(30, 10,  forward=True)\n",
    "\n",
    "plt.plot(portfolio_val)\n",
    "plt.plot(benchmark_data[\"^GSPC\"]*900)\n",
    "plt.plot(benchmark_data[\"SPY\"]*8961.3)\n",
    "# plt.plot(benchmark_data[\"VFIAX\"]*9600)\n",
    "plt.legend([\"Portfolio Value\",\"^GSPC\",\"SPY\",\"VFIAX\"])\n",
    "plt.xlabel(\"Time\")\n",
    "plt.ylabel(\"Portfolio Net Asset Value (in million $)\")\n",
    "plt.title(\"S&P 500 Portfolio v/s benchmarks - Valuation\")\n",
    "plt.show()"
   ]
  },
  {
   "cell_type": "markdown",
   "metadata": {},
   "source": [
    "***"
   ]
  },
  {
   "cell_type": "markdown",
   "metadata": {},
   "source": [
    "# DJIA Replicating Portfolio"
   ]
  },
  {
   "cell_type": "markdown",
   "metadata": {},
   "source": [
    "## Read DJIA Index Constituent Data"
   ]
  },
  {
   "cell_type": "markdown",
   "metadata": {},
   "source": [
    "- WRDS Method _(includes historical data)_"
   ]
  },
  {
   "cell_type": "code",
   "execution_count": 19,
   "metadata": {},
   "outputs": [
    {
     "name": "stdout",
     "output_type": "stream",
     "text": [
      "Unique Indices: 330\n"
     ]
    },
    {
     "data": {
      "text/plain": [
       "{2010: ['MMM',\n",
       "  'DD',\n",
       "  'MCD',\n",
       "  'AA',\n",
       "  'XOM',\n",
       "  'MRK',\n",
       "  'AXP',\n",
       "  'GE',\n",
       "  'MSFT',\n",
       "  'T',\n",
       "  'HP',\n",
       "  'PFE',\n",
       "  'BAC',\n",
       "  'HD',\n",
       "  'PG',\n",
       "  'BA',\n",
       "  'INTC',\n",
       "  'TRV',\n",
       "  'CAT',\n",
       "  'IBM',\n",
       "  'UTX',\n",
       "  'CVX',\n",
       "  'JNJ',\n",
       "  'VZ',\n",
       "  'CSCO',\n",
       "  'JPM',\n",
       "  'WMT',\n",
       "  'KO',\n",
       "  'KFT',\n",
       "  'DIS'],\n",
       " 2011: ['MMM',\n",
       "  'DD',\n",
       "  'MCD',\n",
       "  'AA',\n",
       "  'XOM',\n",
       "  'MRK',\n",
       "  'AXP',\n",
       "  'GE',\n",
       "  'MSFT',\n",
       "  'T',\n",
       "  'HP',\n",
       "  'PFE',\n",
       "  'BAC',\n",
       "  'HD',\n",
       "  'PG',\n",
       "  'BA',\n",
       "  'INTC',\n",
       "  'TRV',\n",
       "  'CAT',\n",
       "  'IBM',\n",
       "  'UTX',\n",
       "  'CVX',\n",
       "  'JNJ',\n",
       "  'VZ',\n",
       "  'CSCO',\n",
       "  'JPM',\n",
       "  'WMT',\n",
       "  'KO',\n",
       "  'KFT',\n",
       "  'DIS'],\n",
       " 2012: ['MMM',\n",
       "  'DD',\n",
       "  'MRK',\n",
       "  'AA',\n",
       "  'XOM',\n",
       "  'MSFT',\n",
       "  'AXP',\n",
       "  'GE',\n",
       "  'PFE',\n",
       "  'T',\n",
       "  'HPQ',\n",
       "  'PG',\n",
       "  'BAC',\n",
       "  'HD',\n",
       "  'TRV',\n",
       "  'BA',\n",
       "  'INTC',\n",
       "  'UNH',\n",
       "  'CAT',\n",
       "  'IBM',\n",
       "  'UTX',\n",
       "  'CVX',\n",
       "  'JNJ',\n",
       "  'VZ',\n",
       "  'CSCO',\n",
       "  'JPM',\n",
       "  'WMT',\n",
       "  'KO',\n",
       "  'MCD',\n",
       "  'DIS'],\n",
       " 2013: ['MMM',\n",
       "  'GE',\n",
       "  'NKE',\n",
       "  'AXP',\n",
       "  'GS',\n",
       "  'PFE',\n",
       "  'T',\n",
       "  'HD',\n",
       "  'PG',\n",
       "  'BA',\n",
       "  'INTC',\n",
       "  'TRV',\n",
       "  'CAT',\n",
       "  'IBM',\n",
       "  'UNH',\n",
       "  'CVX',\n",
       "  'JNJ',\n",
       "  'UTX',\n",
       "  'CSCO',\n",
       "  'JPM',\n",
       "  'VZ',\n",
       "  'KO',\n",
       "  'MCD',\n",
       "  'V',\n",
       "  'DD',\n",
       "  'MRK',\n",
       "  'WMT',\n",
       "  'XOM',\n",
       "  'MSFT',\n",
       "  'DIS'],\n",
       " 2014: ['MMM',\n",
       "  'GE',\n",
       "  'NKE',\n",
       "  'AXP',\n",
       "  'GS',\n",
       "  'PFE',\n",
       "  'T',\n",
       "  'HD',\n",
       "  'PG',\n",
       "  'BA',\n",
       "  'INTC',\n",
       "  'TRV',\n",
       "  'CAT',\n",
       "  'IBM',\n",
       "  'UNH',\n",
       "  'CVX',\n",
       "  'JNJ',\n",
       "  'UTX',\n",
       "  'CSCO',\n",
       "  'JPM',\n",
       "  'VZ',\n",
       "  'KO',\n",
       "  'MCD',\n",
       "  'V',\n",
       "  'DD',\n",
       "  'MRK',\n",
       "  'WMT',\n",
       "  'XOM',\n",
       "  'MSFT',\n",
       "  'DIS'],\n",
       " 2015: ['MMM',\n",
       "  'GE',\n",
       "  'NKE',\n",
       "  'AXP',\n",
       "  'GS',\n",
       "  'PFE',\n",
       "  'AAPL',\n",
       "  'HD',\n",
       "  'PG',\n",
       "  'BA',\n",
       "  'INTC',\n",
       "  'TRV',\n",
       "  'CAT',\n",
       "  'IBM',\n",
       "  'UNH',\n",
       "  'CVX',\n",
       "  'JNJ',\n",
       "  'UTX',\n",
       "  'CSCO',\n",
       "  'JPM',\n",
       "  'VZ',\n",
       "  'KO',\n",
       "  'MCD',\n",
       "  'V',\n",
       "  'DD',\n",
       "  'MRK',\n",
       "  'WMT',\n",
       "  'XOM',\n",
       "  'MSFT',\n",
       "  'DIS'],\n",
       " 2016: ['MMM',\n",
       "  'GE',\n",
       "  'NKE',\n",
       "  'AXP',\n",
       "  'GS',\n",
       "  'PFE',\n",
       "  'AAPL',\n",
       "  'HD',\n",
       "  'PG',\n",
       "  'BA',\n",
       "  'INTC',\n",
       "  'TRV',\n",
       "  'CAT',\n",
       "  'IBM',\n",
       "  'UNH',\n",
       "  'CVX',\n",
       "  'JNJ',\n",
       "  'UTX',\n",
       "  'CSCO',\n",
       "  'JPM',\n",
       "  'VZ',\n",
       "  'KO',\n",
       "  'MCD',\n",
       "  'V',\n",
       "  'DD',\n",
       "  'MRK',\n",
       "  'WMT',\n",
       "  'XOM',\n",
       "  'MSFT',\n",
       "  'DIS'],\n",
       " 2017: ['MMM',\n",
       "  'GE',\n",
       "  'NKE',\n",
       "  'AXP',\n",
       "  'GS',\n",
       "  'PFE',\n",
       "  'AAPL',\n",
       "  'HD',\n",
       "  'PG',\n",
       "  'BA',\n",
       "  'INTC',\n",
       "  'TRV',\n",
       "  'CAT',\n",
       "  'IBM',\n",
       "  'UNH',\n",
       "  'CVX',\n",
       "  'JNJ',\n",
       "  'UTX',\n",
       "  'CSCO',\n",
       "  'JPM',\n",
       "  'VZ',\n",
       "  'KO',\n",
       "  'MCD',\n",
       "  'V',\n",
       "  'DD',\n",
       "  'MRK',\n",
       "  'WMT',\n",
       "  'XOM',\n",
       "  'MSFT',\n",
       "  'DIS'],\n",
       " 2018: ['MMM',\n",
       "  'GS',\n",
       "  'PFE',\n",
       "  'AXP',\n",
       "  'HD',\n",
       "  'PG',\n",
       "  'AAPL',\n",
       "  'INTC',\n",
       "  'TRV',\n",
       "  'BA',\n",
       "  'IBM',\n",
       "  'UNH',\n",
       "  'CAT',\n",
       "  'JNJ',\n",
       "  'UTX',\n",
       "  'CVX',\n",
       "  'JPM',\n",
       "  'VZ',\n",
       "  'CSCO',\n",
       "  'MCD',\n",
       "  'V',\n",
       "  'KO',\n",
       "  'MRK',\n",
       "  'WBA',\n",
       "  'DD',\n",
       "  'MSFT',\n",
       "  'WMT',\n",
       "  'XOM',\n",
       "  'NKE',\n",
       "  'DIS'],\n",
       " 2019: ['MMM',\n",
       "  'GS',\n",
       "  'PFE',\n",
       "  'AXP',\n",
       "  'HD',\n",
       "  'PG',\n",
       "  'AAPL',\n",
       "  'INTC',\n",
       "  'TRV',\n",
       "  'BA',\n",
       "  'IBM',\n",
       "  'UNH',\n",
       "  'CAT',\n",
       "  'JNJ',\n",
       "  'UTX',\n",
       "  'CVX',\n",
       "  'JPM',\n",
       "  'VZ',\n",
       "  'CSCO',\n",
       "  'MCD',\n",
       "  'V',\n",
       "  'KO',\n",
       "  'MRK',\n",
       "  'WBA',\n",
       "  'DOW',\n",
       "  'MSFT',\n",
       "  'WMT',\n",
       "  'NKE',\n",
       "  'DIS',\n",
       "  'XOM'],\n",
       " 2020: ['MMM',\n",
       "  'GS',\n",
       "  'NKE',\n",
       "  'AXP',\n",
       "  'HD',\n",
       "  'PG',\n",
       "  'AMGN',\n",
       "  'HON',\n",
       "  'CRM',\n",
       "  'AAPL',\n",
       "  'INTC',\n",
       "  'TRV',\n",
       "  'BA',\n",
       "  'IBM',\n",
       "  'UNH',\n",
       "  'CAT',\n",
       "  'JNJ',\n",
       "  'VZ',\n",
       "  'CVX',\n",
       "  'JPM',\n",
       "  'V',\n",
       "  'CSCO',\n",
       "  'MCD',\n",
       "  'WBA',\n",
       "  'KO',\n",
       "  'MRK',\n",
       "  'WMT',\n",
       "  'DOW',\n",
       "  'MSFT',\n",
       "  'DIS']}"
      ]
     },
     "execution_count": 19,
     "metadata": {},
     "output_type": "execute_result"
    }
   ],
   "source": [
    "djia_ticker_data = pd.read_csv(\"./data/dj_constituents.csv\")\n",
    "djia_ticker_set = set(djia_ticker_data[\"Symbol\"])\n",
    "print(\"Unique Indices:\",len(djia_ticker_data))\n",
    "djia_ticker = dict()\n",
    "for year in djia_ticker_data[\"Year\"].unique():\n",
    "    djia_ticker[year] = list(djia_ticker_data[djia_ticker_data[\"Year\"] == year][\"Symbol\"])\n",
    "djia_ticker"
   ]
  },
  {
   "cell_type": "markdown",
   "metadata": {},
   "source": [
    "Fetch data from WRDS using the  list\n",
    "\n",
    "***"
   ]
  },
  {
   "cell_type": "markdown",
   "metadata": {},
   "source": [
    "## Read Daily Stock data from WRDS\n"
   ]
  },
  {
   "cell_type": "markdown",
   "metadata": {},
   "source": [
    "### Desciption:\n",
    "\n",
    "- GVKEY: Company Code ?\n",
    "- IID  : Issue ID - Dividents ?\n",
    "- DATADATE: Date\n",
    "- TIC: Company Ticker\n",
    "- CUSIP: Company CUSIP Code\n",
    "- CONM : Company Name\n",
    "- CSHOC : Shares Outstanding\n",
    "- CSHTRD : Trading Volume\n",
    "- PRCCD : Price Close Daily\n",
    "- PRCHD : Price High Daily\n",
    "- PRCLD : Price Low Daily\n",
    "- PRCOD : Price Open Daily\n",
    "- TRFD  : Total Return Factor Daily\n",
    "- EXCHG : Stock Exchange Code\n",
    "- BUSDESC : S&P Business Description\n",
    "- GGROUP : GIC Groups\n",
    "- GIND : GIC Industries\n",
    "- GSECTOR : GIC Sector\n",
    "- GSUBIND : GIC Sub-Industry\n",
    "\n",
    "**Looking at stocks since 01 Jan 2010**"
   ]
  },
  {
   "cell_type": "code",
   "execution_count": 20,
   "metadata": {},
   "outputs": [
    {
     "name": "stdout",
     "output_type": "stream",
     "text": [
      "Number of unique tickers: 39\n",
      "Dimensions:  (111530, 5)\n",
      "datadate    0\n",
      "tic         0\n",
      "div         0\n",
      "shares      9\n",
      "close       0\n",
      "dtype: int64\n"
     ]
    },
    {
     "data": {
      "text/html": [
       "<div>\n",
       "<style scoped>\n",
       "    .dataframe tbody tr th:only-of-type {\n",
       "        vertical-align: middle;\n",
       "    }\n",
       "\n",
       "    .dataframe tbody tr th {\n",
       "        vertical-align: top;\n",
       "    }\n",
       "\n",
       "    .dataframe thead th {\n",
       "        text-align: right;\n",
       "    }\n",
       "</style>\n",
       "<table border=\"1\" class=\"dataframe\">\n",
       "  <thead>\n",
       "    <tr style=\"text-align: right;\">\n",
       "      <th></th>\n",
       "      <th>datadate</th>\n",
       "      <th>tic</th>\n",
       "      <th>div</th>\n",
       "      <th>shares</th>\n",
       "      <th>close</th>\n",
       "    </tr>\n",
       "  </thead>\n",
       "  <tbody>\n",
       "  </tbody>\n",
       "</table>\n",
       "</div>"
      ],
      "text/plain": [
       "Empty DataFrame\n",
       "Columns: [datadate, tic, div, shares, close]\n",
       "Index: []"
      ]
     },
     "execution_count": 20,
     "metadata": {},
     "output_type": "execute_result"
    }
   ],
   "source": [
    "djia_dataframe = data[data[\"tic\"].apply(lambda x: (x in djia_ticker_set))].copy()\n",
    "djia_dataframe = djia_dataframe[djia_dataframe[\"datadate\"] >= pd.to_datetime(\"01-01-2010\")]\n",
    "print(\"Number of unique tickers:\",len(djia_dataframe.tic.value_counts()))\n",
    "djia_data = djia_dataframe[[\"datadate\",\"tic\",\"div\",\"shares\",\"close\"]].reset_index(drop=True)\n",
    "print(\"Dimensions: \",djia_data.shape)\n",
    "print(djia_data.isna().sum())\n",
    "djia_data[np.isnan(djia_data.close)]"
   ]
  },
  {
   "cell_type": "code",
   "execution_count": 21,
   "metadata": {},
   "outputs": [
    {
     "data": {
      "text/html": [
       "<div>\n",
       "<style scoped>\n",
       "    .dataframe tbody tr th:only-of-type {\n",
       "        vertical-align: middle;\n",
       "    }\n",
       "\n",
       "    .dataframe tbody tr th {\n",
       "        vertical-align: top;\n",
       "    }\n",
       "\n",
       "    .dataframe thead th {\n",
       "        text-align: right;\n",
       "    }\n",
       "</style>\n",
       "<table border=\"1\" class=\"dataframe\">\n",
       "  <thead>\n",
       "    <tr style=\"text-align: right;\">\n",
       "      <th></th>\n",
       "      <th></th>\n",
       "      <th>div</th>\n",
       "      <th>shares</th>\n",
       "      <th>close</th>\n",
       "    </tr>\n",
       "    <tr>\n",
       "      <th>datadate</th>\n",
       "      <th>tic</th>\n",
       "      <th></th>\n",
       "      <th></th>\n",
       "      <th></th>\n",
       "    </tr>\n",
       "  </thead>\n",
       "  <tbody>\n",
       "    <tr>\n",
       "      <th rowspan=\"5\" valign=\"top\">2010-01-04</th>\n",
       "      <th>MMM</th>\n",
       "      <td>0.0</td>\n",
       "      <td>7.079580e+08</td>\n",
       "      <td>83.02</td>\n",
       "    </tr>\n",
       "    <tr>\n",
       "      <th>MRK</th>\n",
       "      <td>0.0</td>\n",
       "      <td>3.054476e+09</td>\n",
       "      <td>37.01</td>\n",
       "    </tr>\n",
       "    <tr>\n",
       "      <th>MCD</th>\n",
       "      <td>0.0</td>\n",
       "      <td>1.079187e+09</td>\n",
       "      <td>62.78</td>\n",
       "    </tr>\n",
       "    <tr>\n",
       "      <th>CRM</th>\n",
       "      <td>0.0</td>\n",
       "      <td>1.249000e+08</td>\n",
       "      <td>74.82</td>\n",
       "    </tr>\n",
       "    <tr>\n",
       "      <th>HD</th>\n",
       "      <td>0.0</td>\n",
       "      <td>1.700412e+09</td>\n",
       "      <td>28.67</td>\n",
       "    </tr>\n",
       "    <tr>\n",
       "      <th>...</th>\n",
       "      <th>...</th>\n",
       "      <td>...</td>\n",
       "      <td>...</td>\n",
       "      <td>...</td>\n",
       "    </tr>\n",
       "    <tr>\n",
       "      <th rowspan=\"5\" valign=\"top\">2021-10-08</th>\n",
       "      <th>HON</th>\n",
       "      <td>0.0</td>\n",
       "      <td>6.903990e+08</td>\n",
       "      <td>217.70</td>\n",
       "    </tr>\n",
       "    <tr>\n",
       "      <th>GS</th>\n",
       "      <td>0.0</td>\n",
       "      <td>3.397620e+08</td>\n",
       "      <td>392.81</td>\n",
       "    </tr>\n",
       "    <tr>\n",
       "      <th>WBA</th>\n",
       "      <td>0.0</td>\n",
       "      <td>8.649870e+08</td>\n",
       "      <td>47.38</td>\n",
       "    </tr>\n",
       "    <tr>\n",
       "      <th>WMT</th>\n",
       "      <td>0.0</td>\n",
       "      <td>2.788498e+09</td>\n",
       "      <td>139.66</td>\n",
       "    </tr>\n",
       "    <tr>\n",
       "      <th>MSFT</th>\n",
       "      <td>0.0</td>\n",
       "      <td>7.514891e+09</td>\n",
       "      <td>294.85</td>\n",
       "    </tr>\n",
       "  </tbody>\n",
       "</table>\n",
       "<p>111530 rows × 3 columns</p>\n",
       "</div>"
      ],
      "text/plain": [
       "                 div        shares   close\n",
       "datadate   tic                            \n",
       "2010-01-04 MMM   0.0  7.079580e+08   83.02\n",
       "           MRK   0.0  3.054476e+09   37.01\n",
       "           MCD   0.0  1.079187e+09   62.78\n",
       "           CRM   0.0  1.249000e+08   74.82\n",
       "           HD    0.0  1.700412e+09   28.67\n",
       "...              ...           ...     ...\n",
       "2021-10-08 HON   0.0  6.903990e+08  217.70\n",
       "           GS    0.0  3.397620e+08  392.81\n",
       "           WBA   0.0  8.649870e+08   47.38\n",
       "           WMT   0.0  2.788498e+09  139.66\n",
       "           MSFT  0.0  7.514891e+09  294.85\n",
       "\n",
       "[111530 rows x 3 columns]"
      ]
     },
     "execution_count": 21,
     "metadata": {},
     "output_type": "execute_result"
    }
   ],
   "source": [
    "djia_data = djia_data.set_index([\"datadate\",\"tic\"])\n",
    "djia_data"
   ]
  },
  {
   "cell_type": "code",
   "execution_count": 22,
   "metadata": {},
   "outputs": [
    {
     "data": {
      "text/plain": [
       "[Timestamp('2010-01-04 00:00:00'),\n",
       " Timestamp('2010-01-05 00:00:00'),\n",
       " Timestamp('2010-01-06 00:00:00'),\n",
       " Timestamp('2010-01-07 00:00:00'),\n",
       " Timestamp('2010-01-08 00:00:00')]"
      ]
     },
     "execution_count": 22,
     "metadata": {},
     "output_type": "execute_result"
    }
   ],
   "source": [
    "market_calendar_dates = sorted(list(set(map(lambda x: x[0],djia_data.index.values))))\n",
    "market_calendar_dates[0:5]"
   ]
  },
  {
   "cell_type": "markdown",
   "metadata": {},
   "source": [
    "## Executing Portfolio"
   ]
  },
  {
   "cell_type": "code",
   "execution_count": 23,
   "metadata": {},
   "outputs": [
    {
     "name": "stdout",
     "output_type": "stream",
     "text": [
      "Building Portfolios and Initialising Trading Algorithms\n",
      "Target Index: Dow Jones Algo\n",
      "Trading Algorithm: Price Cap Weighted\n",
      "Starting Investment: 1000000\n",
      "Current Investment: 1000000\n"
     ]
    }
   ],
   "source": [
    "djia_portfolio = Portfolio(target=\"Dow Jones Algo\",\n",
    "                        tickerset= djia_ticker, investment= 1000000,\n",
    "                        trading_algo= \"DJIA_Algo\",\n",
    "                        rebalance=4, reconstitute=12)\n",
    "\n",
    "djia_portfolio.echo()"
   ]
  },
  {
   "cell_type": "code",
   "execution_count": 24,
   "metadata": {},
   "outputs": [
    {
     "name": "stdout",
     "output_type": "stream",
     "text": [
      "Reconstitution on: 04-Jan-2010\n",
      "\tRebalancing on: 04-Jan-2010\n",
      "\tRebalancing on: 03-May-2010\n",
      "\tRebalancing on: 01-Sep-2010\n",
      "Reconstitution on: 03-Jan-2011\n",
      "\tRebalancing on: 03-Jan-2011\n",
      "\tRebalancing on: 02-May-2011\n",
      "\tRebalancing on: 01-Sep-2011\n",
      "Reconstitution on: 03-Jan-2012\n",
      "\tRebalancing on: 03-Jan-2012\n",
      "\tRebalancing on: 01-May-2012\n",
      "\tRebalancing on: 04-Sep-2012\n",
      "Reconstitution on: 02-Jan-2013\n",
      "\tRebalancing on: 02-Jan-2013\n",
      "\tRebalancing on: 01-May-2013\n",
      "\tRebalancing on: 03-Sep-2013\n",
      "Reconstitution on: 02-Jan-2014\n",
      "\tRebalancing on: 02-Jan-2014\n",
      "\tRebalancing on: 01-May-2014\n",
      "\tRebalancing on: 02-Sep-2014\n",
      "Reconstitution on: 02-Jan-2015\n",
      "\tRebalancing on: 02-Jan-2015\n",
      "\tRebalancing on: 01-May-2015\n",
      "\tRebalancing on: 01-Sep-2015\n",
      "Reconstitution on: 04-Jan-2016\n",
      "\tRebalancing on: 04-Jan-2016\n",
      "\tRebalancing on: 02-May-2016\n",
      "\tRebalancing on: 01-Sep-2016\n",
      "Reconstitution on: 03-Jan-2017\n",
      "\tRebalancing on: 03-Jan-2017\n",
      "\tRebalancing on: 01-May-2017\n",
      "\tRebalancing on: 01-Sep-2017\n",
      "Reconstitution on: 02-Jan-2018\n",
      "\tRebalancing on: 02-Jan-2018\n",
      "\tRebalancing on: 01-May-2018\n",
      "\tRebalancing on: 04-Sep-2018\n",
      "Reconstitution on: 02-Jan-2019\n",
      "\tRebalancing on: 02-Jan-2019\n",
      "\tRebalancing on: 01-May-2019\n",
      "\tRebalancing on: 03-Sep-2019\n",
      "Reconstitution on: 02-Jan-2020\n",
      "\tRebalancing on: 02-Jan-2020\n",
      "\tRebalancing on: 01-May-2020\n",
      "\tRebalancing on: 01-Sep-2020\n"
     ]
    },
    {
     "ename": "KeyError",
     "evalue": "2021",
     "output_type": "error",
     "traceback": [
      "\u001b[0;31m---------------------------------------------------------------------------\u001b[0m",
      "\u001b[0;31mKeyError\u001b[0m                                  Traceback (most recent call last)",
      "\u001b[0;32m~/Code/GitHub/portfolio-management/portfolio.py\u001b[0m in \u001b[0;36m<module>\u001b[0;34m\u001b[0m\n\u001b[1;32m      5\u001b[0m     \u001b[0mtmpdf\u001b[0m \u001b[0;34m=\u001b[0m \u001b[0mdjia_data\u001b[0m\u001b[0;34m.\u001b[0m\u001b[0mloc\u001b[0m\u001b[0;34m[\u001b[0m\u001b[0mdate\u001b[0m\u001b[0;34m,\u001b[0m\u001b[0;34m:\u001b[0m\u001b[0;34m]\u001b[0m\u001b[0;34m\u001b[0m\u001b[0;34m\u001b[0m\u001b[0m\n\u001b[1;32m      6\u001b[0m \u001b[0;34m\u001b[0m\u001b[0m\n\u001b[0;32m----> 7\u001b[0;31m     \u001b[0mvaluation\u001b[0m\u001b[0;34m,\u001b[0m \u001b[0mreturns\u001b[0m \u001b[0;34m=\u001b[0m  \u001b[0mdjia_portfolio\u001b[0m\u001b[0;34m.\u001b[0m\u001b[0mrun\u001b[0m\u001b[0;34m(\u001b[0m\u001b[0mdate\u001b[0m\u001b[0;34m=\u001b[0m \u001b[0mdate\u001b[0m\u001b[0;34m,\u001b[0m \u001b[0mprice\u001b[0m\u001b[0;34m=\u001b[0m \u001b[0mtmpdf\u001b[0m\u001b[0;34m,\u001b[0m \u001b[0mtickerlist\u001b[0m \u001b[0;34m=\u001b[0m \u001b[0mdjia_ticker\u001b[0m\u001b[0;34m[\u001b[0m\u001b[0mdate\u001b[0m\u001b[0;34m.\u001b[0m\u001b[0myear\u001b[0m\u001b[0;34m]\u001b[0m\u001b[0;34m)\u001b[0m\u001b[0;34m\u001b[0m\u001b[0;34m\u001b[0m\u001b[0m\n\u001b[0m\u001b[1;32m      8\u001b[0m     \u001b[0mportfolio_val\u001b[0m\u001b[0;34m[\u001b[0m\u001b[0mdate\u001b[0m\u001b[0;34m]\u001b[0m \u001b[0;34m=\u001b[0m \u001b[0mvaluation\u001b[0m\u001b[0;34m\u001b[0m\u001b[0;34m\u001b[0m\u001b[0m\n\u001b[1;32m      9\u001b[0m     \u001b[0mportfolio_returns\u001b[0m\u001b[0;34m[\u001b[0m\u001b[0mdate\u001b[0m\u001b[0;34m]\u001b[0m \u001b[0;34m=\u001b[0m \u001b[0mreturns\u001b[0m\u001b[0;34m\u001b[0m\u001b[0;34m\u001b[0m\u001b[0m\n",
      "\u001b[0;31mKeyError\u001b[0m: 2021"
     ]
    }
   ],
   "source": [
    "portfolio_val = pd.Series([], dtype=float)\n",
    "portfolio_returns = pd.Series([], dtype=float)\n",
    "\n",
    "for date in market_calendar_dates:\n",
    "    tmpdf = djia_data.loc[date,:]\n",
    "    \n",
    "    valuation, returns =  djia_portfolio.run(date= date, price= tmpdf, tickerlist = djia_ticker[date.year])\n",
    "    portfolio_val[date] = valuation\n",
    "    portfolio_returns[date] = returns\n",
    "    # print(date.strftime(\"%d-%m-%Y\"), valuation, returns)"
   ]
  },
  {
   "cell_type": "code",
   "execution_count": 25,
   "metadata": {},
   "outputs": [
    {
     "name": "stdout",
     "output_type": "stream",
     "text": [
      "Target Index: Dow Jones Algo\n",
      "Trading Algorithm: Price Cap Weighted\n",
      "Starting Investment: 1000000\n",
      "Current Investment: 2614772.9648897876\n",
      "Constituent Indices: MMM, GS, NKE, AXP, HD ...\n",
      "Constituent Weights: tic\n",
      "KO      562.094523\n",
      "MCD     562.094523\n",
      "WBA     562.094523\n",
      "AXP     562.094523\n",
      "INTC    562.094523\n",
      "dtype: float64\n"
     ]
    }
   ],
   "source": [
    "djia_portfolio.echo()\n",
    "# print(\"Net return since start: \",djia_portfolio.net_return()*100,\"%\")"
   ]
  },
  {
   "cell_type": "code",
   "execution_count": 26,
   "metadata": {},
   "outputs": [
    {
     "name": "stdout",
     "output_type": "stream",
     "text": [
      "daily return:  0.03365256360425839 %\n"
     ]
    }
   ],
   "source": [
    "from scipy.stats.mstats import gmean\n",
    "print(\"daily return: \",(gmean(portfolio_returns+1)-1)*100,\"%\")"
   ]
  },
  {
   "cell_type": "markdown",
   "metadata": {},
   "source": [
    "## DJIA Index, ETF and Mutual Fund(Not yet available)"
   ]
  },
  {
   "cell_type": "code",
   "execution_count": 27,
   "metadata": {},
   "outputs": [
    {
     "name": "stdout",
     "output_type": "stream",
     "text": [
      "[*********************100%***********************]  3 of 3 completed\n"
     ]
    },
    {
     "data": {
      "text/html": [
       "<div>\n",
       "<style scoped>\n",
       "    .dataframe tbody tr th:only-of-type {\n",
       "        vertical-align: middle;\n",
       "    }\n",
       "\n",
       "    .dataframe tbody tr th {\n",
       "        vertical-align: top;\n",
       "    }\n",
       "\n",
       "    .dataframe thead th {\n",
       "        text-align: right;\n",
       "    }\n",
       "</style>\n",
       "<table border=\"1\" class=\"dataframe\">\n",
       "  <thead>\n",
       "    <tr style=\"text-align: right;\">\n",
       "      <th></th>\n",
       "      <th>DIA</th>\n",
       "      <th>VTSMX</th>\n",
       "      <th>^DJI</th>\n",
       "    </tr>\n",
       "    <tr>\n",
       "      <th>Date</th>\n",
       "      <th></th>\n",
       "      <th></th>\n",
       "      <th></th>\n",
       "    </tr>\n",
       "  </thead>\n",
       "  <tbody>\n",
       "    <tr>\n",
       "      <th>2010-01-04</th>\n",
       "      <td>105.660004</td>\n",
       "      <td>NaN</td>\n",
       "      <td>10583.959961</td>\n",
       "    </tr>\n",
       "    <tr>\n",
       "      <th>2010-01-05</th>\n",
       "      <td>105.489998</td>\n",
       "      <td>NaN</td>\n",
       "      <td>10572.019531</td>\n",
       "    </tr>\n",
       "    <tr>\n",
       "      <th>2010-01-06</th>\n",
       "      <td>105.559998</td>\n",
       "      <td>NaN</td>\n",
       "      <td>10573.679688</td>\n",
       "    </tr>\n",
       "    <tr>\n",
       "      <th>2010-01-07</th>\n",
       "      <td>105.940002</td>\n",
       "      <td>NaN</td>\n",
       "      <td>10606.860352</td>\n",
       "    </tr>\n",
       "    <tr>\n",
       "      <th>2010-01-08</th>\n",
       "      <td>106.110001</td>\n",
       "      <td>NaN</td>\n",
       "      <td>10618.190430</td>\n",
       "    </tr>\n",
       "  </tbody>\n",
       "</table>\n",
       "</div>"
      ],
      "text/plain": [
       "                   DIA  VTSMX          ^DJI\n",
       "Date                                       \n",
       "2010-01-04  105.660004    NaN  10583.959961\n",
       "2010-01-05  105.489998    NaN  10572.019531\n",
       "2010-01-06  105.559998    NaN  10573.679688\n",
       "2010-01-07  105.940002    NaN  10606.860352\n",
       "2010-01-08  106.110001    NaN  10618.190430"
      ]
     },
     "execution_count": 27,
     "metadata": {},
     "output_type": "execute_result"
    }
   ],
   "source": [
    "benchmark_data = yf.download(\"^DJI DIA VTSMX\", start=\"2010-01-01\", end=\"2021-10-07\")\n",
    "benchmark_data = benchmark_data[\"Close\"]#.loc[portfolio_returns.index]\n",
    "benchmark_data.head()"
   ]
  },
  {
   "cell_type": "code",
   "execution_count": 28,
   "metadata": {},
   "outputs": [
    {
     "data": {
      "text/html": [
       "<div>\n",
       "<style scoped>\n",
       "    .dataframe tbody tr th:only-of-type {\n",
       "        vertical-align: middle;\n",
       "    }\n",
       "\n",
       "    .dataframe tbody tr th {\n",
       "        vertical-align: top;\n",
       "    }\n",
       "\n",
       "    .dataframe thead th {\n",
       "        text-align: right;\n",
       "    }\n",
       "</style>\n",
       "<table border=\"1\" class=\"dataframe\">\n",
       "  <thead>\n",
       "    <tr style=\"text-align: right;\">\n",
       "      <th></th>\n",
       "      <th>DIA</th>\n",
       "      <th>VTSMX</th>\n",
       "      <th>^DJI</th>\n",
       "    </tr>\n",
       "    <tr>\n",
       "      <th>Date</th>\n",
       "      <th></th>\n",
       "      <th></th>\n",
       "      <th></th>\n",
       "    </tr>\n",
       "  </thead>\n",
       "  <tbody>\n",
       "    <tr>\n",
       "      <th>2010-01-04</th>\n",
       "      <td>0.000000</td>\n",
       "      <td>0.0</td>\n",
       "      <td>0.000000</td>\n",
       "    </tr>\n",
       "    <tr>\n",
       "      <th>2010-01-05</th>\n",
       "      <td>-0.001609</td>\n",
       "      <td>0.0</td>\n",
       "      <td>-0.001128</td>\n",
       "    </tr>\n",
       "    <tr>\n",
       "      <th>2010-01-06</th>\n",
       "      <td>0.000664</td>\n",
       "      <td>0.0</td>\n",
       "      <td>0.000157</td>\n",
       "    </tr>\n",
       "    <tr>\n",
       "      <th>2010-01-07</th>\n",
       "      <td>0.003600</td>\n",
       "      <td>0.0</td>\n",
       "      <td>0.003138</td>\n",
       "    </tr>\n",
       "    <tr>\n",
       "      <th>2010-01-08</th>\n",
       "      <td>0.001605</td>\n",
       "      <td>0.0</td>\n",
       "      <td>0.001068</td>\n",
       "    </tr>\n",
       "  </tbody>\n",
       "</table>\n",
       "</div>"
      ],
      "text/plain": [
       "                 DIA  VTSMX      ^DJI\n",
       "Date                                 \n",
       "2010-01-04  0.000000    0.0  0.000000\n",
       "2010-01-05 -0.001609    0.0 -0.001128\n",
       "2010-01-06  0.000664    0.0  0.000157\n",
       "2010-01-07  0.003600    0.0  0.003138\n",
       "2010-01-08  0.001605    0.0  0.001068"
      ]
     },
     "execution_count": 28,
     "metadata": {},
     "output_type": "execute_result"
    }
   ],
   "source": [
    "baseline_return = benchmark_data.apply(daily_returns).fillna(0)\n",
    "baseline_return.head()"
   ]
  },
  {
   "cell_type": "markdown",
   "metadata": {},
   "source": [
    "## Plot"
   ]
  },
  {
   "cell_type": "code",
   "execution_count": 29,
   "metadata": {},
   "outputs": [],
   "source": [
    "# fig, ax = plt.subplots(1,2, sharex= False, sharey=False)\n",
    "# fig.set_size_inches(30, 10,  forward=True)\n",
    "\n",
    "# ax[0].plot(portfolio_val)\n",
    "# ax[0].plot((benchmark_data[\"^DJI\"]-584)*100)\n",
    "# ax[0].plot((benchmark_data[\"DIA\"]-5.66)*10000)\n",
    "# ax[0].plot(benchmark_data[\"VTSMX\"]*30000 + 162700)\n",
    "# ax[0].legend([\"Portfolio Value\",\"^DJI\",\"DIA\",\"VTSMX\"])\n",
    "# ax[0].set_xlabel(\"Time\")\n",
    "# ax[0].set_ylabel(\"Portfolio Net Asset Value (in million $)\")\n",
    "# ax[0].set_title(\"Portfolio v/s benchmarks - Valuation\")\n",
    "\n",
    "# ax[1].plot(portfolio_returns)\n",
    "# ax[1].plot(baseline_return[\"^DJI\"])\n",
    "# ax[1].plot(baseline_return[\"DIA\"])\n",
    "# ax[1].plot(baseline_return[\"VTSMX\"])\n",
    "# ax[1].legend([\"Portfolio Returns\",\"^DJI\",\"DIA\",\"VTSMX\"])\n",
    "# ax[1].set_xlabel(\"Time\")\n",
    "# ax[1].set_ylabel(\"Portfolio Daily Returns\")\n",
    "# ax[1].set_title(\"Portfolio v/s benchmarks - Returns\")\n",
    "\n",
    "# fig.suptitle('DJIA Replicating Portfolio',fontsize=20);"
   ]
  },
  {
   "cell_type": "code",
   "execution_count": 30,
   "metadata": {},
   "outputs": [
    {
     "name": "stdout",
     "output_type": "stream",
     "text": [
      "Tracking error between our portfolio and DIA is 0.25%\n",
      "Tracking error between our portfolio and VTSMX is 0.9129999999999999%\n",
      "Tracking error between our portfolio and ^DJI is 0.23900000000000002%\n"
     ]
    }
   ],
   "source": [
    "tracking_error_djia = baseline_return.apply(lambda x: (tracking_error(portfolio_returns,x)))\n",
    "for index, value in tracking_error_djia.iteritems():\n",
    "    print(\"Tracking error between our portfolio and {target} is {std}%\".format(target = index, std = str(round(value,5)*100)))"
   ]
  },
  {
   "cell_type": "code",
   "execution_count": 31,
   "metadata": {},
   "outputs": [
    {
     "data": {
      "image/png": "[encoded data removed]",
      "text/plain": [
       "<Figure size 2160x720 with 1 Axes>"
      ]
     },
     "metadata": {},
     "output_type": "display_data"
    }
   ],
   "source": [
    "plt.figure().set_size_inches(30, 10,  forward=True)\n",
    "\n",
    "plt.plot(portfolio_val)\n",
    "plt.plot((benchmark_data[\"^DJI\"]-584)*100)\n",
    "plt.plot((benchmark_data[\"DIA\"]-5.66)*10000)\n",
    "plt.plot(benchmark_data[\"VTSMX\"]*30000 + 162700)\n",
    "plt.legend([\"Portfolio Value\",\"^DJI\",\"DIA\",\"VTSMX\"])\n",
    "plt.xlabel(\"Time\")\n",
    "plt.ylabel(\"Portfolio Net Asset Value (in million $)\")\n",
    "plt.title(\"DJIA Portfolio v/s benchmarks - Valuation\")\n",
    "plt.show()"
   ]
  },
  {
   "cell_type": "markdown",
   "metadata": {},
   "source": [
    "***\n",
    "***"
   ]
  }
 ],
 "metadata": {
  "kernelspec": {
   "display_name": "options-trading",
   "language": "python",
   "name": "python3"
  },
  "language_info": {
   "codemirror_mode": {
    "name": "ipython",
    "version": 3
   },
   "file_extension": ".py",
   "mimetype": "text/x-python",
   "name": "python",
   "nbconvert_exporter": "python",
   "pygments_lexer": "ipython3",
   "version": "3.10.4"
  },
  "orig_nbformat": 4,
  "vscode": {
   "interpreter": {
    "hash": "5aeeefd3a7fdc940bfc0988760040d06ec0727b833a41d156a9578a9d9c0fc15"
   }
  }
 },
 "nbformat": 4,
 "nbformat_minor": 2
}
