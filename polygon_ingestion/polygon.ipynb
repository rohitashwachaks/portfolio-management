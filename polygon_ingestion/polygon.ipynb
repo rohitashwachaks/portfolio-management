{
 "cells": [
  {
   "cell_type": "code",
   "execution_count": 2,
   "metadata": {},
   "outputs": [
    {
     "name": "stdout",
     "output_type": "stream",
     "text": [
      "On: 2021-06-11 Apple opened at 126.53 and closed at 127.35\n"
     ]
    }
   ],
   "source": [
    "from polygon import RESTClient\n",
    "\n",
    "key = 'Zi94hFF8Y4JD8FzhTMJpjgbQBo2QUbFH'\n",
    "ticker = \"BOM533171\"\n",
    "# RESTClient can be used as a context manager to facilitate closing the underlying http session\n",
    "# https://requests.readthedocs.io/en/master/user/advanced/#session-objects\n",
    "with RESTClient(key) as client:\n",
    "    resp = client.stocks_equities_daily_open_close(ticker, \"2021-06-11\")\n",
    "    print(f\"On: {resp.from_} Apple opened at {resp.open} and closed at {resp.close}\")"
   ]
  },
  {
   "cell_type": "code",
   "execution_count": null,
   "metadata": {},
   "outputs": [],
   "source": []
  }
 ],
 "metadata": {
  "interpreter": {
   "hash": "e977757c12efd7edc355d4bfc73cb288660b7eabd32e8af9dce074334f507a80"
  },
  "kernelspec": {
   "display_name": "Python 3.9.7 64-bit ('finance': conda)",
   "language": "python",
   "name": "python3"
  },
  "language_info": {
   "codemirror_mode": {
    "name": "ipython",
    "version": 3
   },
   "file_extension": ".py",
   "mimetype": "text/x-python",
   "name": "python",
   "nbconvert_exporter": "python",
   "pygments_lexer": "ipython3",
   "version": "3.9.7"
  },
  "orig_nbformat": 4
 },
 "nbformat": 4,
 "nbformat_minor": 2
}
